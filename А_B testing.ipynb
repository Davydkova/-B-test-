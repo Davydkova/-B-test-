{
 "cells": [
  {
   "cell_type": "markdown",
   "id": "ede165db",
   "metadata": {
    "toc": true
   },
   "source": [
    "<h1>Содержание<span class=\"tocSkip\"></span></h1>\n",
    "<div class=\"toc\"><ul class=\"toc-item\"><li><span><a href=\"#Загрузка-данных-и-подготовка-к-анализу\" data-toc-modified-id=\"Загрузка-данных-и-подготовка-к-анализу-1\"><span class=\"toc-item-num\">1&nbsp;&nbsp;</span>Загрузка данных и подготовка к анализу</a></span><ul class=\"toc-item\"><li><span><a href=\"#Данные-о-гипотезах-hypothesis\" data-toc-modified-id=\"Данные-о-гипотезах-hypothesis-1.1\"><span class=\"toc-item-num\">1.1&nbsp;&nbsp;</span>Данные о гипотезах hypothesis</a></span></li><li><span><a href=\"#Данные-о-заказах-orders--и-визитах-visitors\" data-toc-modified-id=\"Данные-о-заказах-orders--и-визитах-visitors-1.2\"><span class=\"toc-item-num\">1.2&nbsp;&nbsp;</span>Данные о заказах orders  и визитах visitors</a></span></li><li><span><a href=\"#Проверка-распределений-на-нормальность\" data-toc-modified-id=\"Проверка-распределений-на-нормальность-1.3\"><span class=\"toc-item-num\">1.3&nbsp;&nbsp;</span>Проверка распределений на нормальность</a></span></li></ul></li><li><span><a href=\"#Приоритизация-гипотез\" data-toc-modified-id=\"Приоритизация-гипотез-2\"><span class=\"toc-item-num\">2&nbsp;&nbsp;</span>Приоритизация гипотез</a></span><ul class=\"toc-item\"><li><span><a href=\"#ВЫВОД\" data-toc-modified-id=\"ВЫВОД-2.1\"><span class=\"toc-item-num\">2.1&nbsp;&nbsp;</span>ВЫВОД</a></span></li></ul></li><li><span><a href=\"#Проведение-A/B-теста\" data-toc-modified-id=\"Проведение-A/B-теста-3\"><span class=\"toc-item-num\">3&nbsp;&nbsp;</span>Проведение A/B-теста</a></span><ul class=\"toc-item\"><li><span><a href=\"#График-кумулятивной-выручки-по-группам\" data-toc-modified-id=\"График-кумулятивной-выручки-по-группам-3.1\"><span class=\"toc-item-num\">3.1&nbsp;&nbsp;</span>График кумулятивной выручки по группам</a></span></li><li><span><a href=\"#График-кумулятивной-выручки-среднего-чека-по-группам\" data-toc-modified-id=\"График-кумулятивной-выручки-среднего-чека-по-группам-3.2\"><span class=\"toc-item-num\">3.2&nbsp;&nbsp;</span>График кумулятивной выручки среднего чека по группам</a></span></li><li><span><a href=\"#График-относительного-изменения-кумулятивного-среднего-чека-группы-B-к-группе-A\" data-toc-modified-id=\"График-относительного-изменения-кумулятивного-среднего-чека-группы-B-к-группе-A-3.3\"><span class=\"toc-item-num\">3.3&nbsp;&nbsp;</span>График относительного изменения кумулятивного среднего чека группы B к группе A</a></span></li><li><span><a href=\"#График-кумулятивной-конверсии-по-группам\" data-toc-modified-id=\"График-кумулятивной-конверсии-по-группам-3.4\"><span class=\"toc-item-num\">3.4&nbsp;&nbsp;</span>График кумулятивной конверсии по группам</a></span></li><li><span><a href=\"#График-относительного-изменения-кумулятивной-конверсии-группы-B-к-группе-A\" data-toc-modified-id=\"График-относительного-изменения-кумулятивной-конверсии-группы-B-к-группе-A-3.5\"><span class=\"toc-item-num\">3.5&nbsp;&nbsp;</span>График относительного изменения кумулятивной конверсии группы B к группе A</a></span></li><li><span><a href=\"#Графики-количества-заказов-по-пользователям\" data-toc-modified-id=\"Графики-количества-заказов-по-пользователям-3.6\"><span class=\"toc-item-num\">3.6&nbsp;&nbsp;</span>Графики количества заказов по пользователям</a></span></li><li><span><a href=\"#95-й-и-99-й-перцентили-количества-заказов-на-пользователя.-Точечный-график-стоимостей-заказов\" data-toc-modified-id=\"95-й-и-99-й-перцентили-количества-заказов-на-пользователя.-Точечный-график-стоимостей-заказов-3.7\"><span class=\"toc-item-num\">3.7&nbsp;&nbsp;</span>95-й и 99-й перцентили количества заказов на пользователя. Точечный график стоимостей заказов</a></span></li><li><span><a href=\"#95-й-и-99-й-перцентили-стоимости-заказов\" data-toc-modified-id=\"95-й-и-99-й-перцентили-стоимости-заказов-3.8\"><span class=\"toc-item-num\">3.8&nbsp;&nbsp;</span>95-й и 99-й перцентили стоимости заказов</a></span></li><li><span><a href=\"#Статистическая-значимость-различий-в-конверсии-между-группами\" data-toc-modified-id=\"Статистическая-значимость-различий-в-конверсии-между-группами-3.9\"><span class=\"toc-item-num\">3.9&nbsp;&nbsp;</span>Статистическая значимость различий в конверсии между группами</a></span></li><li><span><a href=\"#Cтатистическая-значимость-различий-в-среднем-чеке-заказа-между-группами-по-«сырым»-данным\" data-toc-modified-id=\"Cтатистическая-значимость-различий-в-среднем-чеке-заказа-между-группами-по-«сырым»-данным-3.10\"><span class=\"toc-item-num\">3.10&nbsp;&nbsp;</span>Cтатистическая значимость различий в среднем чеке заказа между группами по «сырым» данным</a></span></li><li><span><a href=\"#Статистическая-значимость-различий-конверсий-между-группами-по-&quot;очищенным&quot;-данным\" data-toc-modified-id=\"Статистическая-значимость-различий-конверсий-между-группами-по-&quot;очищенным&quot;-данным-3.11\"><span class=\"toc-item-num\">3.11&nbsp;&nbsp;</span>Статистическая значимость различий конверсий между группами по \"очищенным\" данным</a></span></li><li><span><a href=\"#Cтатистическую-значимость-различий-в-среднем-чеке-заказа-между-группами-по-«очищенным»-данным.\" data-toc-modified-id=\"Cтатистическую-значимость-различий-в-среднем-чеке-заказа-между-группами-по-«очищенным»-данным.-3.12\"><span class=\"toc-item-num\">3.12&nbsp;&nbsp;</span>Cтатистическую значимость различий в среднем чеке заказа между группами по «очищенным» данным.</a></span></li></ul></li><li><span><a href=\"#Анализ-по-результатам-А/B-тестирования\" data-toc-modified-id=\"Анализ-по-результатам-А/B-тестирования-4\"><span class=\"toc-item-num\">4&nbsp;&nbsp;</span>Анализ по результатам А/B тестирования</a></span></li></ul></div>"
   ]
  },
  {
   "cell_type": "markdown",
   "id": "76aaa5d0",
   "metadata": {},
   "source": [
    "# Приоритизация гипотез. Анализ A/B теста\n",
    "\n",
    "**Источник данных** — интернет-магазин. \n",
    "   \n",
    " **Описание**:\n",
    " \n",
    " Вы — аналитик крупного интернет-магазина. Вместе с отделом маркетинга вы подготовили список гипотез для увеличения выручки.\n",
    "   \n",
    " **Цель исследования**:\n",
    "\n",
    "       - приоритизация гипотез \n",
    "       - A/B-тестирование\n",
    "       - анализ результатов"
   ]
  },
  {
   "cell_type": "markdown",
   "id": "14424308",
   "metadata": {},
   "source": [
    "         Описание данных\n",
    "\n",
    "***hypothesis***\n",
    "\n",
    "Hypothesis — краткое описание гипотезы;\n",
    "\n",
    "Reach — охват пользователей по 10-балльной шкале;\n",
    "\n",
    "Impact — влияние на пользователей по 10-балльной шкале;\n",
    "\n",
    "Confidence — уверенность в гипотезе по 10-балльной шкале;\n",
    "\n",
    "Efforts — затраты ресурсов на проверку гипотезы по 10-балльной шкале.\n",
    "\n",
    "Чем больше значение Efforts, тем дороже проверка гипотезы.\n",
    "\n",
    "        Описание данных для  A/B-теста\n",
    "\n",
    "***orders***\n",
    "\n",
    "\n",
    "transactionId — идентификатор заказа;\n",
    "\n",
    "visitorId — идентификатор пользователя, совершившего заказ;\n",
    "\n",
    "date — дата, когда был совершён заказ;\n",
    "\n",
    "revenue — выручка заказа;\n",
    "\n",
    "group — группа A/B-теста, в которую попал заказ.\n",
    "\n",
    "***visitors***\n",
    "\n",
    "date — дата;\n",
    "\n",
    "group — группа A/B-теста;\n",
    "\n",
    "visitors — количество пользователей в указанную дату в указанной группе A/B-теста"
   ]
  },
  {
   "cell_type": "markdown",
   "id": "3e0a705f",
   "metadata": {},
   "source": [
    "## Загрузка данных и подготовка к анализу"
   ]
  },
  {
   "cell_type": "code",
   "execution_count": 1,
   "id": "6c480da0",
   "metadata": {},
   "outputs": [],
   "source": [
    "#загрузка библиотек \n",
    "\n",
    "import pandas as pd\n",
    "import numpy as np\n",
    "import datetime as dt\n",
    "import scipy.stats as stats\n",
    "\n",
    "from datetime import datetime, timedelta\n",
    "\n",
    "from matplotlib import mlab\n",
    "import matplotlib.pyplot as plt\n",
    "from matplotlib import rcParams\n",
    "\n",
    "pd.set_option('display.max_colwidth',None)   #полного отображения информационных данных в датафреймах\n"
   ]
  },
  {
   "cell_type": "code",
   "execution_count": 2,
   "id": "234db889",
   "metadata": {},
   "outputs": [],
   "source": [
    "try:\n",
    "    hypothesis=pd.read_csv('C://Users//Вика//Downloads/hypothesis.csv')\n",
    "    orders=pd.read_csv('C://Users//Вика//Downloads/orders.csv')\n",
    "    visitors=pd.read_csv('C://Users//Вика//Downloads/visitors.csv')\n",
    "except:\n",
    "    hypothesis=pd.read_csv('https://code.s3.yandex.net/datasets/hypothesis.csv')\n",
    "    orders=pd.read_csv('https://code.s3.yandex.net/datasets/orders.csv')\n",
    "    visitors=pd.read_csv('https://code.s3.yandex.net/datasets/visitors.csv')"
   ]
  },
  {
   "cell_type": "code",
   "execution_count": 3,
   "id": "d922cdfa",
   "metadata": {},
   "outputs": [],
   "source": [
    "def info_data(df):    #функция о основной информации содержащейся в датасете\n",
    "    display(df.info())  \n",
    "    display(df.sample(5)) # случайные 5 строк\n",
    "    display(df.isnull().mean()) #содержание нулевых значений в датасете\n",
    "    display(df.duplicated().sum()) # проверка на наличие дубликатов"
   ]
  },
  {
   "cell_type": "markdown",
   "id": "6d52d0b8",
   "metadata": {},
   "source": [
    "### Данные о гипотезах hypothesis"
   ]
  },
  {
   "cell_type": "code",
   "execution_count": 4,
   "id": "1b7a6668",
   "metadata": {},
   "outputs": [
    {
     "name": "stdout",
     "output_type": "stream",
     "text": [
      "<class 'pandas.core.frame.DataFrame'>\n",
      "RangeIndex: 9 entries, 0 to 8\n",
      "Data columns (total 5 columns):\n",
      " #   Column      Non-Null Count  Dtype \n",
      "---  ------      --------------  ----- \n",
      " 0   Hypothesis  9 non-null      object\n",
      " 1   Reach       9 non-null      int64 \n",
      " 2   Impact      9 non-null      int64 \n",
      " 3   Confidence  9 non-null      int64 \n",
      " 4   Efforts     9 non-null      int64 \n",
      "dtypes: int64(4), object(1)\n",
      "memory usage: 488.0+ bytes\n"
     ]
    },
    {
     "data": {
      "text/plain": [
       "None"
      ]
     },
     "metadata": {},
     "output_type": "display_data"
    },
    {
     "data": {
      "text/html": [
       "<div>\n",
       "<style scoped>\n",
       "    .dataframe tbody tr th:only-of-type {\n",
       "        vertical-align: middle;\n",
       "    }\n",
       "\n",
       "    .dataframe tbody tr th {\n",
       "        vertical-align: top;\n",
       "    }\n",
       "\n",
       "    .dataframe thead th {\n",
       "        text-align: right;\n",
       "    }\n",
       "</style>\n",
       "<table border=\"1\" class=\"dataframe\">\n",
       "  <thead>\n",
       "    <tr style=\"text-align: right;\">\n",
       "      <th></th>\n",
       "      <th>Hypothesis</th>\n",
       "      <th>Reach</th>\n",
       "      <th>Impact</th>\n",
       "      <th>Confidence</th>\n",
       "      <th>Efforts</th>\n",
       "    </tr>\n",
       "  </thead>\n",
       "  <tbody>\n",
       "    <tr>\n",
       "      <th>0</th>\n",
       "      <td>Добавить два новых канала привлечения трафика, что позволит привлекать на 30% больше пользователей</td>\n",
       "      <td>3</td>\n",
       "      <td>10</td>\n",
       "      <td>8</td>\n",
       "      <td>6</td>\n",
       "    </tr>\n",
       "    <tr>\n",
       "      <th>3</th>\n",
       "      <td>Изменить структура категорий, что увеличит конверсию, т.к. пользователи быстрее найдут нужный товар</td>\n",
       "      <td>8</td>\n",
       "      <td>3</td>\n",
       "      <td>3</td>\n",
       "      <td>8</td>\n",
       "    </tr>\n",
       "    <tr>\n",
       "      <th>8</th>\n",
       "      <td>Запустить акцию, дающую скидку на товар в день рождения</td>\n",
       "      <td>1</td>\n",
       "      <td>9</td>\n",
       "      <td>9</td>\n",
       "      <td>5</td>\n",
       "    </tr>\n",
       "    <tr>\n",
       "      <th>2</th>\n",
       "      <td>Добавить блоки рекомендаций товаров на сайт интернет магазина, чтобы повысить конверсию и средний чек заказа</td>\n",
       "      <td>8</td>\n",
       "      <td>3</td>\n",
       "      <td>7</td>\n",
       "      <td>3</td>\n",
       "    </tr>\n",
       "    <tr>\n",
       "      <th>7</th>\n",
       "      <td>Добавить форму подписки на все основные страницы, чтобы собрать базу клиентов для email-рассылок</td>\n",
       "      <td>10</td>\n",
       "      <td>7</td>\n",
       "      <td>8</td>\n",
       "      <td>5</td>\n",
       "    </tr>\n",
       "  </tbody>\n",
       "</table>\n",
       "</div>"
      ],
      "text/plain": [
       "                                                                                                     Hypothesis  \\\n",
       "0            Добавить два новых канала привлечения трафика, что позволит привлекать на 30% больше пользователей   \n",
       "3           Изменить структура категорий, что увеличит конверсию, т.к. пользователи быстрее найдут нужный товар   \n",
       "8                                                       Запустить акцию, дающую скидку на товар в день рождения   \n",
       "2  Добавить блоки рекомендаций товаров на сайт интернет магазина, чтобы повысить конверсию и средний чек заказа   \n",
       "7              Добавить форму подписки на все основные страницы, чтобы собрать базу клиентов для email-рассылок   \n",
       "\n",
       "   Reach  Impact  Confidence  Efforts  \n",
       "0      3      10           8        6  \n",
       "3      8       3           3        8  \n",
       "8      1       9           9        5  \n",
       "2      8       3           7        3  \n",
       "7     10       7           8        5  "
      ]
     },
     "metadata": {},
     "output_type": "display_data"
    },
    {
     "data": {
      "text/plain": [
       "Hypothesis    0.0\n",
       "Reach         0.0\n",
       "Impact        0.0\n",
       "Confidence    0.0\n",
       "Efforts       0.0\n",
       "dtype: float64"
      ]
     },
     "metadata": {},
     "output_type": "display_data"
    },
    {
     "data": {
      "text/plain": [
       "0"
      ]
     },
     "metadata": {},
     "output_type": "display_data"
    }
   ],
   "source": [
    "info_data(hypothesis)"
   ]
  },
  {
   "cell_type": "markdown",
   "id": "77c69e3f",
   "metadata": {},
   "source": [
    "**Данных немного, пропущенных значений в данных нет, дубликатов нет, типы данных соответствуют описанию**\n"
   ]
  },
  {
   "cell_type": "code",
   "execution_count": 5,
   "id": "189b072c",
   "metadata": {},
   "outputs": [
    {
     "data": {
      "text/plain": [
       "array(['Добавить два новых канала привлечения трафика, что позволит привлекать на 30% больше пользователей',\n",
       "       'Запустить собственную службу доставки, что сократит срок доставки заказов',\n",
       "       'Добавить блоки рекомендаций товаров на сайт интернет магазина, чтобы повысить конверсию и средний чек заказа',\n",
       "       'Изменить структура категорий, что увеличит конверсию, т.к. пользователи быстрее найдут нужный товар',\n",
       "       'Изменить цвет фона главной страницы, чтобы увеличить вовлеченность пользователей',\n",
       "       'Добавить страницу отзывов клиентов о магазине, что позволит увеличить количество заказов',\n",
       "       'Показать на главной странице баннеры с актуальными акциями и распродажами, чтобы увеличить конверсию',\n",
       "       'Добавить форму подписки на все основные страницы, чтобы собрать базу клиентов для email-рассылок',\n",
       "       'Запустить акцию, дающую скидку на товар в день рождения'],\n",
       "      dtype=object)"
      ]
     },
     "execution_count": 5,
     "metadata": {},
     "output_type": "execute_result"
    }
   ],
   "source": [
    "#знакомство с данными, основными гипотезами  \n",
    "\n",
    "hypothesis['Hypothesis'].unique()"
   ]
  },
  {
   "cell_type": "markdown",
   "id": "8866b21f",
   "metadata": {},
   "source": [
    "### Данные о заказах orders  и визитах visitors "
   ]
  },
  {
   "cell_type": "code",
   "execution_count": 6,
   "id": "f32734a9",
   "metadata": {},
   "outputs": [
    {
     "name": "stdout",
     "output_type": "stream",
     "text": [
      "<class 'pandas.core.frame.DataFrame'>\n",
      "RangeIndex: 1197 entries, 0 to 1196\n",
      "Data columns (total 5 columns):\n",
      " #   Column         Non-Null Count  Dtype \n",
      "---  ------         --------------  ----- \n",
      " 0   transactionId  1197 non-null   int64 \n",
      " 1   visitorId      1197 non-null   int64 \n",
      " 2   date           1197 non-null   object\n",
      " 3   revenue        1197 non-null   int64 \n",
      " 4   group          1197 non-null   object\n",
      "dtypes: int64(3), object(2)\n",
      "memory usage: 46.9+ KB\n"
     ]
    },
    {
     "data": {
      "text/plain": [
       "None"
      ]
     },
     "metadata": {},
     "output_type": "display_data"
    },
    {
     "data": {
      "text/html": [
       "<div>\n",
       "<style scoped>\n",
       "    .dataframe tbody tr th:only-of-type {\n",
       "        vertical-align: middle;\n",
       "    }\n",
       "\n",
       "    .dataframe tbody tr th {\n",
       "        vertical-align: top;\n",
       "    }\n",
       "\n",
       "    .dataframe thead th {\n",
       "        text-align: right;\n",
       "    }\n",
       "</style>\n",
       "<table border=\"1\" class=\"dataframe\">\n",
       "  <thead>\n",
       "    <tr style=\"text-align: right;\">\n",
       "      <th></th>\n",
       "      <th>transactionId</th>\n",
       "      <th>visitorId</th>\n",
       "      <th>date</th>\n",
       "      <th>revenue</th>\n",
       "      <th>group</th>\n",
       "    </tr>\n",
       "  </thead>\n",
       "  <tbody>\n",
       "    <tr>\n",
       "      <th>750</th>\n",
       "      <td>3133733765</td>\n",
       "      <td>1255412427</td>\n",
       "      <td>2019-08-20</td>\n",
       "      <td>3170</td>\n",
       "      <td>A</td>\n",
       "    </tr>\n",
       "    <tr>\n",
       "      <th>545</th>\n",
       "      <td>2172704731</td>\n",
       "      <td>2042457747</td>\n",
       "      <td>2019-08-29</td>\n",
       "      <td>17990</td>\n",
       "      <td>B</td>\n",
       "    </tr>\n",
       "    <tr>\n",
       "      <th>973</th>\n",
       "      <td>698171827</td>\n",
       "      <td>3941795274</td>\n",
       "      <td>2019-08-22</td>\n",
       "      <td>1320</td>\n",
       "      <td>B</td>\n",
       "    </tr>\n",
       "    <tr>\n",
       "      <th>591</th>\n",
       "      <td>1601158430</td>\n",
       "      <td>990849616</td>\n",
       "      <td>2019-08-20</td>\n",
       "      <td>3550</td>\n",
       "      <td>B</td>\n",
       "    </tr>\n",
       "    <tr>\n",
       "      <th>614</th>\n",
       "      <td>1172658283</td>\n",
       "      <td>671625855</td>\n",
       "      <td>2019-08-07</td>\n",
       "      <td>11990</td>\n",
       "      <td>B</td>\n",
       "    </tr>\n",
       "  </tbody>\n",
       "</table>\n",
       "</div>"
      ],
      "text/plain": [
       "     transactionId   visitorId        date  revenue group\n",
       "750     3133733765  1255412427  2019-08-20     3170     A\n",
       "545     2172704731  2042457747  2019-08-29    17990     B\n",
       "973      698171827  3941795274  2019-08-22     1320     B\n",
       "591     1601158430   990849616  2019-08-20     3550     B\n",
       "614     1172658283   671625855  2019-08-07    11990     B"
      ]
     },
     "metadata": {},
     "output_type": "display_data"
    },
    {
     "data": {
      "text/plain": [
       "transactionId    0.0\n",
       "visitorId        0.0\n",
       "date             0.0\n",
       "revenue          0.0\n",
       "group            0.0\n",
       "dtype: float64"
      ]
     },
     "metadata": {},
     "output_type": "display_data"
    },
    {
     "data": {
      "text/plain": [
       "0"
      ]
     },
     "metadata": {},
     "output_type": "display_data"
    }
   ],
   "source": [
    "info_data(orders)"
   ]
  },
  {
   "cell_type": "markdown",
   "id": "2beb26e5",
   "metadata": {},
   "source": [
    "**Данных немного, пропущенных значений в данных нет, дубликатов нет, не все типы у данных соответствуют дальнейшей корректной работы с ними**"
   ]
  },
  {
   "cell_type": "code",
   "execution_count": 7,
   "id": "736b1c03",
   "metadata": {},
   "outputs": [],
   "source": [
    "#преобразование строчного формата date в формат даты\n",
    "\n",
    "orders['date'] = orders['date'].map(lambda x: dt.datetime.strptime(x, '%Y-%m-%d'))"
   ]
  },
  {
   "cell_type": "code",
   "execution_count": 8,
   "id": "1cf9e455",
   "metadata": {},
   "outputs": [
    {
     "name": "stdout",
     "output_type": "stream",
     "text": [
      "<class 'pandas.core.frame.DataFrame'>\n",
      "RangeIndex: 62 entries, 0 to 61\n",
      "Data columns (total 3 columns):\n",
      " #   Column    Non-Null Count  Dtype \n",
      "---  ------    --------------  ----- \n",
      " 0   date      62 non-null     object\n",
      " 1   group     62 non-null     object\n",
      " 2   visitors  62 non-null     int64 \n",
      "dtypes: int64(1), object(2)\n",
      "memory usage: 1.6+ KB\n"
     ]
    },
    {
     "data": {
      "text/plain": [
       "None"
      ]
     },
     "metadata": {},
     "output_type": "display_data"
    },
    {
     "data": {
      "text/html": [
       "<div>\n",
       "<style scoped>\n",
       "    .dataframe tbody tr th:only-of-type {\n",
       "        vertical-align: middle;\n",
       "    }\n",
       "\n",
       "    .dataframe tbody tr th {\n",
       "        vertical-align: top;\n",
       "    }\n",
       "\n",
       "    .dataframe thead th {\n",
       "        text-align: right;\n",
       "    }\n",
       "</style>\n",
       "<table border=\"1\" class=\"dataframe\">\n",
       "  <thead>\n",
       "    <tr style=\"text-align: right;\">\n",
       "      <th></th>\n",
       "      <th>date</th>\n",
       "      <th>group</th>\n",
       "      <th>visitors</th>\n",
       "    </tr>\n",
       "  </thead>\n",
       "  <tbody>\n",
       "    <tr>\n",
       "      <th>57</th>\n",
       "      <td>2019-08-27</td>\n",
       "      <td>B</td>\n",
       "      <td>720</td>\n",
       "    </tr>\n",
       "    <tr>\n",
       "      <th>61</th>\n",
       "      <td>2019-08-31</td>\n",
       "      <td>B</td>\n",
       "      <td>718</td>\n",
       "    </tr>\n",
       "    <tr>\n",
       "      <th>12</th>\n",
       "      <td>2019-08-13</td>\n",
       "      <td>A</td>\n",
       "      <td>748</td>\n",
       "    </tr>\n",
       "    <tr>\n",
       "      <th>43</th>\n",
       "      <td>2019-08-13</td>\n",
       "      <td>B</td>\n",
       "      <td>769</td>\n",
       "    </tr>\n",
       "    <tr>\n",
       "      <th>37</th>\n",
       "      <td>2019-08-07</td>\n",
       "      <td>B</td>\n",
       "      <td>709</td>\n",
       "    </tr>\n",
       "  </tbody>\n",
       "</table>\n",
       "</div>"
      ],
      "text/plain": [
       "          date group  visitors\n",
       "57  2019-08-27     B       720\n",
       "61  2019-08-31     B       718\n",
       "12  2019-08-13     A       748\n",
       "43  2019-08-13     B       769\n",
       "37  2019-08-07     B       709"
      ]
     },
     "metadata": {},
     "output_type": "display_data"
    },
    {
     "data": {
      "text/plain": [
       "date        0.0\n",
       "group       0.0\n",
       "visitors    0.0\n",
       "dtype: float64"
      ]
     },
     "metadata": {},
     "output_type": "display_data"
    },
    {
     "data": {
      "text/plain": [
       "0"
      ]
     },
     "metadata": {},
     "output_type": "display_data"
    }
   ],
   "source": [
    "info_data(visitors)"
   ]
  },
  {
   "cell_type": "markdown",
   "id": "1e028e18",
   "metadata": {},
   "source": [
    "**Данных немного, пропущенных значений в данных нет, дубликатов нет, не все типы данных соответствуют дальнейшей корректной работы с ними**"
   ]
  },
  {
   "cell_type": "code",
   "execution_count": 9,
   "id": "5dcbbf1b",
   "metadata": {},
   "outputs": [],
   "source": [
    "#преобработка типа данных к дате\n",
    "\n",
    "visitors['date'] = visitors['date'].map(\n",
    "    lambda x: dt.datetime.strptime(x, '%Y-%m-%d'))"
   ]
  },
  {
   "cell_type": "code",
   "execution_count": 10,
   "id": "89643da9",
   "metadata": {},
   "outputs": [
    {
     "data": {
      "text/plain": [
       "58"
      ]
     },
     "execution_count": 10,
     "metadata": {},
     "output_type": "execute_result"
    }
   ],
   "source": [
    "# проверка пользователей на наличие в двух группах одноврменно \n",
    "\n",
    "group_AB=orders.groupby('visitorId').agg({'group':'nunique'}).query('group>1')\n",
    "group_AB.shape[0]  #возвращаем размер массива"
   ]
  },
  {
   "cell_type": "code",
   "execution_count": 11,
   "id": "42e8101c",
   "metadata": {},
   "outputs": [
    {
     "data": {
      "text/plain": [
       "58"
      ]
     },
     "execution_count": 11,
     "metadata": {},
     "output_type": "execute_result"
    }
   ],
   "source": [
    "# проверка на наличие пользователей в двух группах через пересечение множеств \n",
    "\n",
    "len(list(set(orders.query('group==\"A\"').visitorId) & set(orders.query('group==\"B\"').visitorId)))"
   ]
  },
  {
   "cell_type": "markdown",
   "id": "7af9c17e",
   "metadata": {},
   "source": [
    "Возможно сплит-система работает некорректно\n",
    "\n",
    "Удалять таких пользователей возможно некорректно\n",
    "\n",
    "При удалении таких пользователей, мы исключаем их из заказов, а из визитов не можем, таблица визитов агрегированна по дням"
   ]
  },
  {
   "cell_type": "markdown",
   "id": "0ca25786",
   "metadata": {},
   "source": [
    "### Проверка распределений на нормальность "
   ]
  },
  {
   "cell_type": "code",
   "execution_count": 12,
   "id": "3271a04d",
   "metadata": {},
   "outputs": [
    {
     "data": {
      "text/plain": [
       "ShapiroResult(statistic=0.9558210372924805, pvalue=1.54080483663901e-18)"
      ]
     },
     "execution_count": 12,
     "metadata": {},
     "output_type": "execute_result"
    }
   ],
   "source": [
    "from scipy.stats import shapiro\n",
    "\n",
    "shapiro(orders.visitorId)"
   ]
  },
  {
   "cell_type": "markdown",
   "id": "cb11e742",
   "metadata": {},
   "source": [
    "**Значение p_value очень мало, нулевую гипотезу отвергаем, следовательно мы имеем неравномерное распределение**"
   ]
  },
  {
   "cell_type": "code",
   "execution_count": 13,
   "id": "3cdceeb2",
   "metadata": {},
   "outputs": [
    {
     "data": {
      "text/plain": [
       "ShapiroResult(statistic=0.9321591854095459, pvalue=0.002020221436396241)"
      ]
     },
     "execution_count": 13,
     "metadata": {},
     "output_type": "execute_result"
    }
   ],
   "source": [
    "shapiro(visitors.visitors)"
   ]
  },
  {
   "cell_type": "markdown",
   "id": "e3e090cc",
   "metadata": {},
   "source": [
    "Значение p_value очень мало, нулевую гипотезу отвергаем, следовательно мы имеем неравномерное распределение"
   ]
  },
  {
   "cell_type": "code",
   "execution_count": 14,
   "id": "17204766",
   "metadata": {},
   "outputs": [
    {
     "data": {
      "text/plain": [
       "((array([-2.28632824, -1.92718526, -1.71674477, -1.56281938, -1.43895118,\n",
       "         -1.33390917, -1.24182024, -1.15920615, -1.08382718, -1.01415101,\n",
       "         -0.94907991, -0.88779833, -0.82968216, -0.77424185, -0.72108527,\n",
       "         -0.6698925 , -0.6203983 , -0.57237956, -0.52564609, -0.48003374,\n",
       "         -0.43539923, -0.39161603, -0.34857126, -0.30616308, -0.26429872,\n",
       "         -0.2228927 , -0.18186549, -0.14114226, -0.10065186, -0.06032587,\n",
       "         -0.02009779,  0.02009779,  0.06032587,  0.10065186,  0.14114226,\n",
       "          0.18186549,  0.2228927 ,  0.26429872,  0.30616308,  0.34857126,\n",
       "          0.39161603,  0.43539923,  0.48003374,  0.52564609,  0.57237956,\n",
       "          0.6203983 ,  0.6698925 ,  0.72108527,  0.77424185,  0.82968216,\n",
       "          0.88779833,  0.94907991,  1.01415101,  1.08382718,  1.15920615,\n",
       "          1.24182024,  1.33390917,  1.43895118,  1.56281938,  1.71674477,\n",
       "          1.92718526,  2.28632824]),\n",
       "  array([361, 369, 378, 395, 406, 412, 413, 421, 468, 487, 490, 490, 502,\n",
       "         507, 509, 531, 543, 544, 546, 560, 575, 577, 581, 594, 595, 609,\n",
       "         610, 610, 617, 619, 621, 628, 644, 646, 650, 654, 654, 655, 656,\n",
       "         667, 668, 676, 679, 699, 707, 709, 711, 713, 717, 718, 718, 719,\n",
       "         720, 721, 722, 735, 737, 746, 748, 756, 769, 770], dtype=int64)),\n",
       " (113.5109883370975, 607.2903225806451, 0.9705075175382324))"
      ]
     },
     "execution_count": 14,
     "metadata": {},
     "output_type": "execute_result"
    },
    {
     "data": {
      "image/png": "[encoded data removed]",
      "text/plain": [
       "<Figure size 1008x432 with 2 Axes>"
      ]
     },
     "metadata": {
      "needs_background": "light"
     },
     "output_type": "display_data"
    }
   ],
   "source": [
    "plt.figure(figsize=(14,6))\n",
    "plt.subplot(2,2,1)\n",
    "stats.probplot(orders['visitorId'],dist='norm',plot=plt)\n",
    "plt.subplot(2,2,2)\n",
    "stats.probplot(visitors['visitors'],dist='norm',plot=plt)"
   ]
  },
  {
   "cell_type": "markdown",
   "id": "6283e768",
   "metadata": {},
   "source": [
    "## Приоритизация гипотез"
   ]
  },
  {
   "cell_type": "markdown",
   "id": "f592720d",
   "metadata": {},
   "source": [
    "- Применение фрейворка ICE для приоритизации гипотез "
   ]
  },
  {
   "cell_type": "markdown",
   "id": "f0e068a7",
   "metadata": {},
   "source": [
    "$$ICE=\\frac{Impact*Confidence}{Efforts}$$\n"
   ]
  },
  {
   "cell_type": "markdown",
   "id": "9dbb0be1",
   "metadata": {},
   "source": [
    "$$RICE=\\frac{Reach*Impact*Confidence}{Efforts}$$"
   ]
  },
  {
   "cell_type": "code",
   "execution_count": 15,
   "id": "1a3b50f0",
   "metadata": {},
   "outputs": [
    {
     "data": {
      "text/html": [
       "<div>\n",
       "<style scoped>\n",
       "    .dataframe tbody tr th:only-of-type {\n",
       "        vertical-align: middle;\n",
       "    }\n",
       "\n",
       "    .dataframe tbody tr th {\n",
       "        vertical-align: top;\n",
       "    }\n",
       "\n",
       "    .dataframe thead th {\n",
       "        text-align: right;\n",
       "    }\n",
       "</style>\n",
       "<table border=\"1\" class=\"dataframe\">\n",
       "  <thead>\n",
       "    <tr style=\"text-align: right;\">\n",
       "      <th></th>\n",
       "      <th>Hypothesis</th>\n",
       "      <th>Reach</th>\n",
       "      <th>Impact</th>\n",
       "      <th>Confidence</th>\n",
       "      <th>Efforts</th>\n",
       "      <th>ICE</th>\n",
       "    </tr>\n",
       "  </thead>\n",
       "  <tbody>\n",
       "    <tr>\n",
       "      <th>8</th>\n",
       "      <td>Запустить акцию, дающую скидку на товар в день рождения</td>\n",
       "      <td>1</td>\n",
       "      <td>9</td>\n",
       "      <td>9</td>\n",
       "      <td>5</td>\n",
       "      <td>16.0</td>\n",
       "    </tr>\n",
       "    <tr>\n",
       "      <th>0</th>\n",
       "      <td>Добавить два новых канала привлечения трафика, что позволит привлекать на 30% больше пользователей</td>\n",
       "      <td>3</td>\n",
       "      <td>10</td>\n",
       "      <td>8</td>\n",
       "      <td>6</td>\n",
       "      <td>13.0</td>\n",
       "    </tr>\n",
       "    <tr>\n",
       "      <th>7</th>\n",
       "      <td>Добавить форму подписки на все основные страницы, чтобы собрать базу клиентов для email-рассылок</td>\n",
       "      <td>10</td>\n",
       "      <td>7</td>\n",
       "      <td>8</td>\n",
       "      <td>5</td>\n",
       "      <td>11.0</td>\n",
       "    </tr>\n",
       "    <tr>\n",
       "      <th>6</th>\n",
       "      <td>Показать на главной странице баннеры с актуальными акциями и распродажами, чтобы увеличить конверсию</td>\n",
       "      <td>5</td>\n",
       "      <td>3</td>\n",
       "      <td>8</td>\n",
       "      <td>3</td>\n",
       "      <td>8.0</td>\n",
       "    </tr>\n",
       "    <tr>\n",
       "      <th>2</th>\n",
       "      <td>Добавить блоки рекомендаций товаров на сайт интернет магазина, чтобы повысить конверсию и средний чек заказа</td>\n",
       "      <td>8</td>\n",
       "      <td>3</td>\n",
       "      <td>7</td>\n",
       "      <td>3</td>\n",
       "      <td>7.0</td>\n",
       "    </tr>\n",
       "    <tr>\n",
       "      <th>1</th>\n",
       "      <td>Запустить собственную службу доставки, что сократит срок доставки заказов</td>\n",
       "      <td>2</td>\n",
       "      <td>5</td>\n",
       "      <td>4</td>\n",
       "      <td>10</td>\n",
       "      <td>2.0</td>\n",
       "    </tr>\n",
       "    <tr>\n",
       "      <th>3</th>\n",
       "      <td>Изменить структура категорий, что увеличит конверсию, т.к. пользователи быстрее найдут нужный товар</td>\n",
       "      <td>8</td>\n",
       "      <td>3</td>\n",
       "      <td>3</td>\n",
       "      <td>8</td>\n",
       "      <td>1.0</td>\n",
       "    </tr>\n",
       "    <tr>\n",
       "      <th>4</th>\n",
       "      <td>Изменить цвет фона главной страницы, чтобы увеличить вовлеченность пользователей</td>\n",
       "      <td>3</td>\n",
       "      <td>1</td>\n",
       "      <td>1</td>\n",
       "      <td>1</td>\n",
       "      <td>1.0</td>\n",
       "    </tr>\n",
       "    <tr>\n",
       "      <th>5</th>\n",
       "      <td>Добавить страницу отзывов клиентов о магазине, что позволит увеличить количество заказов</td>\n",
       "      <td>3</td>\n",
       "      <td>2</td>\n",
       "      <td>2</td>\n",
       "      <td>3</td>\n",
       "      <td>1.0</td>\n",
       "    </tr>\n",
       "  </tbody>\n",
       "</table>\n",
       "</div>"
      ],
      "text/plain": [
       "                                                                                                     Hypothesis  \\\n",
       "8                                                       Запустить акцию, дающую скидку на товар в день рождения   \n",
       "0            Добавить два новых канала привлечения трафика, что позволит привлекать на 30% больше пользователей   \n",
       "7              Добавить форму подписки на все основные страницы, чтобы собрать базу клиентов для email-рассылок   \n",
       "6          Показать на главной странице баннеры с актуальными акциями и распродажами, чтобы увеличить конверсию   \n",
       "2  Добавить блоки рекомендаций товаров на сайт интернет магазина, чтобы повысить конверсию и средний чек заказа   \n",
       "1                                     Запустить собственную службу доставки, что сократит срок доставки заказов   \n",
       "3           Изменить структура категорий, что увеличит конверсию, т.к. пользователи быстрее найдут нужный товар   \n",
       "4                              Изменить цвет фона главной страницы, чтобы увеличить вовлеченность пользователей   \n",
       "5                      Добавить страницу отзывов клиентов о магазине, что позволит увеличить количество заказов   \n",
       "\n",
       "   Reach  Impact  Confidence  Efforts   ICE  \n",
       "8      1       9           9        5  16.0  \n",
       "0      3      10           8        6  13.0  \n",
       "7     10       7           8        5  11.0  \n",
       "6      5       3           8        3   8.0  \n",
       "2      8       3           7        3   7.0  \n",
       "1      2       5           4       10   2.0  \n",
       "3      8       3           3        8   1.0  \n",
       "4      3       1           1        1   1.0  \n",
       "5      3       2           2        3   1.0  "
      ]
     },
     "execution_count": 15,
     "metadata": {},
     "output_type": "execute_result"
    }
   ],
   "source": [
    "#Применение фрейворка ICE для приоритизации гипотез\n",
    "\n",
    "hypothesis['ICE']=hypothesis['Impact']*hypothesis['Confidence']/hypothesis['Efforts']\n",
    "hypothesis['ICE']=round(hypothesis['ICE'])\n",
    "hypothesis.sort_values(by='ICE', ascending=False)\n",
    "\n",
    "# hypothesis['ICE']=hypothesis['ICE'].apply(lambda x:'{:.1f}'.format(x))"
   ]
  },
  {
   "cell_type": "markdown",
   "id": "634fe5c9",
   "metadata": {},
   "source": [
    "Самая перспективная гипотеза №8  - **Запустить акцию, дающую скидку на товар в день рождения**, далее\n",
    "\n",
    "**Добавить два новых канала привлечения трафика, что позволит привлекать на 30% больше пользователей**, и \n",
    "\n",
    "**Добавить форму подписки на все основные страницы, чтобы собрать базу клиентов для email-рассылок**\n",
    "\n",
    "Самая бесперспективня гипотеза - **Изменить цвет фона главной страницы, чтобы увеличить вовлеченность пользователей**"
   ]
  },
  {
   "cell_type": "markdown",
   "id": "d42feef7",
   "metadata": {},
   "source": [
    "- Применение фрейворка RICE для приоритизации гипотез "
   ]
  },
  {
   "cell_type": "code",
   "execution_count": 16,
   "id": "10a2ecc9",
   "metadata": {},
   "outputs": [
    {
     "data": {
      "text/html": [
       "<div>\n",
       "<style scoped>\n",
       "    .dataframe tbody tr th:only-of-type {\n",
       "        vertical-align: middle;\n",
       "    }\n",
       "\n",
       "    .dataframe tbody tr th {\n",
       "        vertical-align: top;\n",
       "    }\n",
       "\n",
       "    .dataframe thead th {\n",
       "        text-align: right;\n",
       "    }\n",
       "</style>\n",
       "<table border=\"1\" class=\"dataframe\">\n",
       "  <thead>\n",
       "    <tr style=\"text-align: right;\">\n",
       "      <th></th>\n",
       "      <th>Hypothesis</th>\n",
       "      <th>Reach</th>\n",
       "      <th>Impact</th>\n",
       "      <th>Confidence</th>\n",
       "      <th>Efforts</th>\n",
       "      <th>ICE</th>\n",
       "      <th>RICE</th>\n",
       "    </tr>\n",
       "  </thead>\n",
       "  <tbody>\n",
       "    <tr>\n",
       "      <th>7</th>\n",
       "      <td>Добавить форму подписки на все основные страницы, чтобы собрать базу клиентов для email-рассылок</td>\n",
       "      <td>10</td>\n",
       "      <td>7</td>\n",
       "      <td>8</td>\n",
       "      <td>5</td>\n",
       "      <td>11.0</td>\n",
       "      <td>112.0</td>\n",
       "    </tr>\n",
       "    <tr>\n",
       "      <th>2</th>\n",
       "      <td>Добавить блоки рекомендаций товаров на сайт интернет магазина, чтобы повысить конверсию и средний чек заказа</td>\n",
       "      <td>8</td>\n",
       "      <td>3</td>\n",
       "      <td>7</td>\n",
       "      <td>3</td>\n",
       "      <td>7.0</td>\n",
       "      <td>56.0</td>\n",
       "    </tr>\n",
       "    <tr>\n",
       "      <th>0</th>\n",
       "      <td>Добавить два новых канала привлечения трафика, что позволит привлекать на 30% больше пользователей</td>\n",
       "      <td>3</td>\n",
       "      <td>10</td>\n",
       "      <td>8</td>\n",
       "      <td>6</td>\n",
       "      <td>13.0</td>\n",
       "      <td>40.0</td>\n",
       "    </tr>\n",
       "    <tr>\n",
       "      <th>6</th>\n",
       "      <td>Показать на главной странице баннеры с актуальными акциями и распродажами, чтобы увеличить конверсию</td>\n",
       "      <td>5</td>\n",
       "      <td>3</td>\n",
       "      <td>8</td>\n",
       "      <td>3</td>\n",
       "      <td>8.0</td>\n",
       "      <td>40.0</td>\n",
       "    </tr>\n",
       "    <tr>\n",
       "      <th>8</th>\n",
       "      <td>Запустить акцию, дающую скидку на товар в день рождения</td>\n",
       "      <td>1</td>\n",
       "      <td>9</td>\n",
       "      <td>9</td>\n",
       "      <td>5</td>\n",
       "      <td>16.0</td>\n",
       "      <td>16.2</td>\n",
       "    </tr>\n",
       "    <tr>\n",
       "      <th>3</th>\n",
       "      <td>Изменить структура категорий, что увеличит конверсию, т.к. пользователи быстрее найдут нужный товар</td>\n",
       "      <td>8</td>\n",
       "      <td>3</td>\n",
       "      <td>3</td>\n",
       "      <td>8</td>\n",
       "      <td>1.0</td>\n",
       "      <td>9.0</td>\n",
       "    </tr>\n",
       "    <tr>\n",
       "      <th>1</th>\n",
       "      <td>Запустить собственную службу доставки, что сократит срок доставки заказов</td>\n",
       "      <td>2</td>\n",
       "      <td>5</td>\n",
       "      <td>4</td>\n",
       "      <td>10</td>\n",
       "      <td>2.0</td>\n",
       "      <td>4.0</td>\n",
       "    </tr>\n",
       "    <tr>\n",
       "      <th>5</th>\n",
       "      <td>Добавить страницу отзывов клиентов о магазине, что позволит увеличить количество заказов</td>\n",
       "      <td>3</td>\n",
       "      <td>2</td>\n",
       "      <td>2</td>\n",
       "      <td>3</td>\n",
       "      <td>1.0</td>\n",
       "      <td>4.0</td>\n",
       "    </tr>\n",
       "    <tr>\n",
       "      <th>4</th>\n",
       "      <td>Изменить цвет фона главной страницы, чтобы увеличить вовлеченность пользователей</td>\n",
       "      <td>3</td>\n",
       "      <td>1</td>\n",
       "      <td>1</td>\n",
       "      <td>1</td>\n",
       "      <td>1.0</td>\n",
       "      <td>3.0</td>\n",
       "    </tr>\n",
       "  </tbody>\n",
       "</table>\n",
       "</div>"
      ],
      "text/plain": [
       "                                                                                                     Hypothesis  \\\n",
       "7              Добавить форму подписки на все основные страницы, чтобы собрать базу клиентов для email-рассылок   \n",
       "2  Добавить блоки рекомендаций товаров на сайт интернет магазина, чтобы повысить конверсию и средний чек заказа   \n",
       "0            Добавить два новых канала привлечения трафика, что позволит привлекать на 30% больше пользователей   \n",
       "6          Показать на главной странице баннеры с актуальными акциями и распродажами, чтобы увеличить конверсию   \n",
       "8                                                       Запустить акцию, дающую скидку на товар в день рождения   \n",
       "3           Изменить структура категорий, что увеличит конверсию, т.к. пользователи быстрее найдут нужный товар   \n",
       "1                                     Запустить собственную службу доставки, что сократит срок доставки заказов   \n",
       "5                      Добавить страницу отзывов клиентов о магазине, что позволит увеличить количество заказов   \n",
       "4                              Изменить цвет фона главной страницы, чтобы увеличить вовлеченность пользователей   \n",
       "\n",
       "   Reach  Impact  Confidence  Efforts   ICE   RICE  \n",
       "7     10       7           8        5  11.0  112.0  \n",
       "2      8       3           7        3   7.0   56.0  \n",
       "0      3      10           8        6  13.0   40.0  \n",
       "6      5       3           8        3   8.0   40.0  \n",
       "8      1       9           9        5  16.0   16.2  \n",
       "3      8       3           3        8   1.0    9.0  \n",
       "1      2       5           4       10   2.0    4.0  \n",
       "5      3       2           2        3   1.0    4.0  \n",
       "4      3       1           1        1   1.0    3.0  "
      ]
     },
     "execution_count": 16,
     "metadata": {},
     "output_type": "execute_result"
    }
   ],
   "source": [
    "#Применение фрейворка RICE для приоритизации гипотез\n",
    "\n",
    "hypothesis['RICE']=hypothesis['Reach']*hypothesis['Impact']*hypothesis['Confidence']/hypothesis['Efforts']\n",
    "hypothesis.sort_values(by='RICE', ascending=False)"
   ]
  },
  {
   "cell_type": "markdown",
   "id": "3f4c4ee3",
   "metadata": {},
   "source": [
    "Самая перспективная гипотеза по оценке RICE - **Добавить форму подписки на все основные страницы, чтобы собрать базу клиентов для email-рассылок**, далее \n",
    "\n",
    "**Добавить блоки рекомендаций товаров на сайт интернет магазина, чтобы повысить конверсию и средний чек заказа** и \n",
    "\n",
    "**Добавить два новых канала привлечения трафика, что позволит привлекать на 30% больше пользователей**\n",
    "\n",
    "\n",
    "Самая бесперспективня гипотеза(осталась той же,что и в случае iCE) - **Изменить цвет фона главной страницы, чтобы увеличить вовлеченность пользователей**"
   ]
  },
  {
   "cell_type": "markdown",
   "id": "8bd17e91",
   "metadata": {},
   "source": [
    "### ВЫВОД\n",
    "\n",
    "Задачи по приоритизации гипотез просты лишь на первый взгляд.\n",
    "\n",
    "Оценки временной критичности или рисков требуют времени. \n",
    "Выбор потенциально удачной гипотезы способен сэкономить ресурсы компании\n",
    "\n",
    "При применении RICE перспективная гипотеза изменилась, потому что ее праметр Reach (охват) равен максимальному значению(10).\n",
    "\n",
    "Кроме силы гипотез, нужно учитывать как много пользователей она затронет.\n",
    "\n",
    "**Общие рекомандации** наиболее перспективна гипотеза \n",
    "\n",
    "**Добавить форму подписки на все основные страницы, чтобы собрать базу клиентов для email-рассылок**,\n",
    "\n",
    "ее стоит расммотривать в превую очередь, а гипотезу - \n",
    "\n",
    "**Изменить цвет фона главной страницы, чтобы увеличить вовлеченность пользователей**, в последнюю."
   ]
  },
  {
   "cell_type": "markdown",
   "id": "8953a476",
   "metadata": {},
   "source": [
    "## Проведение A/B-теста"
   ]
  },
  {
   "cell_type": "markdown",
   "id": "7376fc20",
   "metadata": {},
   "source": [
    "### График кумулятивной выручки по группам"
   ]
  },
  {
   "cell_type": "markdown",
   "id": "bb10143f",
   "metadata": {},
   "source": [
    "- Построим график кумулятивной выручки по группам"
   ]
  },
  {
   "cell_type": "code",
   "execution_count": 17,
   "id": "3a4ec892",
   "metadata": {},
   "outputs": [],
   "source": [
    "datesGroups = orders[['date','group']].drop_duplicates() #массив уникальных пар значений дат и групп теста\n",
    "\n",
    "\n",
    "#посчитаем результаты тестирования до выбранного дня включительно\n",
    "# посчитаем агрегированные кумулятивные по дням данные о заказах интернет-магазина\n",
    "\n",
    "ordersAggregated = (datesGroups\n",
    "                    .apply(lambda x: orders[np.logical_and(orders['date'] <= x['date'], orders['group'] == x['group'])]\\\n",
    "                           .agg({'date' : 'max', 'group' : 'max', 'visitorId' : 'nunique', 'transactionId' : 'nunique', \n",
    "                                 'revenue' : 'sum'}),\n",
    "                                     axis=1).sort_values(by=['date','group'])\n",
    "                   )\n",
    "\n",
    "\n",
    "# посчитаем агрегированные кумулятивные по дням данные о посетителях интернет-магазина\n",
    "\n",
    "visitorsAggregated = (datesGroups\n",
    "                      .apply(lambda x: visitors[np.logical_and(visitors['date'] <= x['date'], visitors['group'] == x['group'])]\n",
    "                             .agg({'date' : 'max', 'group' : 'max', 'visitors' : 'sum'}), axis=1)\n",
    "                      .sort_values(by=['date','group'])\n",
    "                     )\n",
    "\n",
    "#объединение данных, переименование столбцов\n",
    "cumulativeData = ordersAggregated.merge(visitorsAggregated, left_on=['date', 'group'], right_on=['date', 'group'])\n",
    "cumulativeData.columns = ['date', 'group', 'orders', 'buyers', 'revenue', 'visitors']"
   ]
  },
  {
   "cell_type": "code",
   "execution_count": 18,
   "id": "3232e52d",
   "metadata": {},
   "outputs": [
    {
     "data": {
      "image/png": "[encoded data removed]",
      "text/plain": [
       "<Figure size 1200x500 with 1 Axes>"
      ]
     },
     "metadata": {
      "needs_background": "light"
     },
     "output_type": "display_data"
    }
   ],
   "source": [
    "# датафрейм с кумулятивным количеством заказов и кумулятивной выручкой по дням в группе А и В\n",
    "cumulativeRevenueA = cumulativeData[cumulativeData['group']=='A'][['date','revenue', 'orders']]\n",
    "cumulativeRevenueB = cumulativeData[cumulativeData['group']=='B'][['date','revenue', 'orders']]\n",
    "\n",
    "rcParams['figure.dpi'] = 100 #качество\n",
    "plt.rcParams.update({'figure.figsize': (12, 5)}) #масштабируем\n",
    "\n",
    "# Строим график выручки группы А и В\n",
    "plt.plot(cumulativeRevenueA['date'], cumulativeRevenueA['revenue'], label='A',linewidth=1.7) \n",
    "plt.plot(cumulativeRevenueB['date'], cumulativeRevenueB['revenue'], label='B',linewidth=1.7)\n",
    "\n",
    "plt.legend()\n",
    "plt.xlabel('date')\n",
    "plt.ylabel('revenue')\n",
    "plt.grid()\n",
    "plt.title('График кумулятивной выручки по дням и по группам')\n",
    "\n",
    "\n",
    "#добавление на график анотаций для наглядности\n",
    "\n",
    "plt.annotate(\"скачок\", xy=(dt.datetime(2019,8,18), 2800000), xytext=(dt.datetime(2019,8,10),3500000), \n",
    "            arrowprops=dict(facecolor='g'))\n",
    "plt.annotate('отрыв', xy=(dt.datetime(2019,8,5),800000), xytext=(dt.datetime(2019,8,2),200000), \n",
    "            arrowprops=dict(facecolor='g'))\n",
    "plt.annotate('начало равномерного роста', xy=(dt.datetime(2019,8,19),4100000), xytext=(dt.datetime(2019,8,5),4500000), \n",
    "           arrowprops=dict(facecolor='g'));"
   ]
  },
  {
   "cell_type": "markdown",
   "id": "4976a039",
   "metadata": {},
   "source": [
    "**Выручка равномерно увеличивается в течении теста. Хороший знак**\n",
    "\n",
    "**В середине теста ( после 13 августа) сегмент В вырвался вперед и продолжал лидировать весь остаток теста.**\n",
    "\n",
    "**В некоторой точки ( после 17 августа)  график выручки группы В резко растет.  Это может сигнализировать о всплесках числа заказов, либо о появлении очень дорогих заказов в выборке.**\n",
    " \n",
    "Аномально большие заказы могут влияют на результаты. При заключительном анализе их нужно удалить"
   ]
  },
  {
   "cell_type": "markdown",
   "id": "1b403cb1",
   "metadata": {},
   "source": [
    "- Построим график кумулятивного среднего чека по группам"
   ]
  },
  {
   "cell_type": "markdown",
   "id": "d4a1f58b",
   "metadata": {},
   "source": [
    "### График кумулятивной выручки среднего чека по группам"
   ]
  },
  {
   "cell_type": "code",
   "execution_count": 19,
   "id": "23192251",
   "metadata": {},
   "outputs": [
    {
     "data": {
      "text/plain": [
       "Text(2019-08-14 00:00:00, 9000, 'скачок')"
      ]
     },
     "execution_count": 19,
     "metadata": {},
     "output_type": "execute_result"
    },
    {
     "data": {
      "image/png": "[encoded data removed]",
      "text/plain": [
       "<Figure size 1200x500 with 1 Axes>"
      ]
     },
     "metadata": {
      "needs_background": "light"
     },
     "output_type": "display_data"
    }
   ],
   "source": [
    "plt.plot(cumulativeRevenueA['date'], cumulativeRevenueA['revenue']/cumulativeRevenueA['orders'], label='A')\n",
    "plt.plot(cumulativeRevenueB['date'], cumulativeRevenueB['revenue']/cumulativeRevenueB['orders'], label='B')\n",
    "\n",
    "plt.legend()\n",
    "plt.xlabel('date')\n",
    "plt.ylabel('avg revenue')\n",
    "plt.grid()\n",
    "plt.title('График кумулятивной выручки среднего чека по группам');\n",
    "\n",
    "plt.annotate(\"скачок\", xy=(dt.datetime(2019,8,18), 7500), xytext=(dt.datetime(2019,8,14),9000), \n",
    "            arrowprops=dict(facecolor='b'))\n",
    "# plt.annotate('отрыв', xy=(dt.datetime(2019,8,5),800000), xytext=(dt.datetime(2019,8,2),200000), \n",
    "#             arrowprops=dict(facecolor='g'))\n",
    "# plt.annotate('начало равномерного роста', xy=(dt.datetime(2019,8,19),4100000), xytext=(dt.datetime(2019,8,5),4500000), \n",
    "#            arrowprops=dict(facecolor='g'));\n"
   ]
  },
  {
   "cell_type": "markdown",
   "id": "bf3f17ab",
   "metadata": {},
   "source": [
    "**Кумулятивные значения среднего чека выглядят довольно колебательно. Таже точка после 17 августа имеет резкий всплеск (возможно крупные заказы)**\n",
    "\n",
    "Принимать решение по этой метрике рано. Или требуется дополнительнй анализ выбросов, которые искажают результаты**"
   ]
  },
  {
   "cell_type": "markdown",
   "id": "537d9788",
   "metadata": {},
   "source": [
    "### График относительного изменения кумулятивного среднего чека группы B к группе A"
   ]
  },
  {
   "cell_type": "markdown",
   "id": "f56f004b",
   "metadata": {},
   "source": [
    "- Построим график относительного изменения кумулятивного среднего чека группы B к группе A"
   ]
  },
  {
   "cell_type": "code",
   "execution_count": 20,
   "id": "a5a7aa58",
   "metadata": {},
   "outputs": [
    {
     "data": {
      "image/png": "[encoded data removed]",
      "text/plain": [
       "<Figure size 1200x500 with 1 Axes>"
      ]
     },
     "metadata": {
      "needs_background": "light"
     },
     "output_type": "display_data"
    }
   ],
   "source": [
    "# собираем данные в одном датафрейме\n",
    "mergedCumulativeRevenue = cumulativeRevenueA.merge(cumulativeRevenueB, left_on='date', right_on='date', how='left', suffixes=['A', 'B'])\n",
    "\n",
    "# cтроим отношение средних чеков\n",
    "plt.plot(mergedCumulativeRevenue['date'], (mergedCumulativeRevenue['revenueB']/mergedCumulativeRevenue['ordersB'])/(mergedCumulativeRevenue['revenueA']/mergedCumulativeRevenue['ordersA'])-1)\n",
    "\n",
    "# добавляем ось X\n",
    "plt.axhline(y=0, color='black', linestyle='--')\n",
    "\n",
    "plt.xlabel('Дата')\n",
    "plt.ylabel('Частота')\n",
    "plt.grid()\n",
    "plt.title('График относительного изменения кумулятивного среднего чека группы B к группе A');"
   ]
  },
  {
   "cell_type": "markdown",
   "id": "728c3b90",
   "metadata": {},
   "source": [
    "**Результаты теста значительно и резко менялись в несколько дат. Возможно, именно тогда были совершенны аномальные заказы**"
   ]
  },
  {
   "cell_type": "markdown",
   "id": "901e9294",
   "metadata": {},
   "source": [
    "### График кумулятивной конверсии по группам"
   ]
  },
  {
   "cell_type": "markdown",
   "id": "175998c9",
   "metadata": {},
   "source": [
    " - Построим график кумулятивной конверсии по группам"
   ]
  },
  {
   "cell_type": "code",
   "execution_count": 21,
   "id": "5b0bd526",
   "metadata": {},
   "outputs": [
    {
     "data": {
      "image/png": "[encoded data removed]",
      "text/plain": [
       "<Figure size 1200x500 with 1 Axes>"
      ]
     },
     "metadata": {
      "needs_background": "light"
     },
     "output_type": "display_data"
    }
   ],
   "source": [
    "# считаем кумулятивную конверсию\n",
    "cumulativeData['conversion'] = cumulativeData['orders']/cumulativeData['visitors']\n",
    "# отделяем данные по группе A и В\n",
    "cumulativeDataA = cumulativeData[cumulativeData['group']=='A']\n",
    "cumulativeDataB = cumulativeData[cumulativeData['group']=='B']\n",
    "\n",
    "plt.plot(cumulativeDataA['date'], cumulativeDataA['conversion'], label='A')\n",
    "plt.plot(cumulativeDataB['date'], cumulativeDataB['conversion'], label='B')\n",
    "\n",
    "plt.xlabel('Дата')\n",
    "plt.ylabel('Конверсия')\n",
    "plt.grid()\n",
    "plt.title('График кумулятивной конверсии по группам')\n",
    "plt.legend();\n",
    "\n",
    "# plt.axis([dt.datetime(2019, 3, 10), dt.datetime(2019, 4, 23), 0, 0.05])"
   ]
  },
  {
   "cell_type": "markdown",
   "id": "9fed609c",
   "metadata": {},
   "source": [
    "**В начале теста группа А и В имели резкий скачок и имели примерно одинаковую конверсию.**\n",
    "\n",
    "**Постепенно сегмент В зафиксировался примерно в диапазоне 0,034-0,031, а сегмент А отстает , в значениях 0.27-0.28**"
   ]
  },
  {
   "cell_type": "markdown",
   "id": "b212d2ba",
   "metadata": {},
   "source": [
    "### График относительного изменения кумулятивной конверсии группы B к группе A"
   ]
  },
  {
   "cell_type": "markdown",
   "id": "be4dab90",
   "metadata": {},
   "source": [
    "- Построим график относительного изменения кумулятивной конверсии группы B к группе A"
   ]
  },
  {
   "cell_type": "code",
   "execution_count": 22,
   "id": "973bbbc1",
   "metadata": {},
   "outputs": [
    {
     "data": {
      "image/png": "[encoded data removed]",
      "text/plain": [
       "<Figure size 1200x500 with 1 Axes>"
      ]
     },
     "metadata": {
      "needs_background": "light"
     },
     "output_type": "display_data"
    }
   ],
   "source": [
    "mergedCumulativeConversions = cumulativeDataA[['date','conversion']].merge(cumulativeDataB[['date','conversion']], left_on='date', right_on='date', how='left', suffixes=['A', 'B'])\n",
    "\n",
    "plt.plot(mergedCumulativeConversions['date'], mergedCumulativeConversions['conversionB']/mergedCumulativeConversions['conversionA']-1, label=\"Относительный прирост конверсии группы B относительно группы A\")\n",
    "plt.legend()\n",
    "\n",
    "plt.axhline(y=0, color='red', linestyle='--')\n",
    "plt.axhline(y=0.2, color='grey', linestyle='--')\n",
    "plt.xlabel('Дата')\n",
    "plt.ylabel('Конверсия')\n",
    "plt.grid()\n",
    "plt.title('График относительного изменения кумулятивной конверсии группы B к группе A')\n",
    "plt.show()"
   ]
  },
  {
   "cell_type": "markdown",
   "id": "96398252",
   "metadata": {},
   "source": [
    "**После 5 августа 2019 лидирует тест группа В по конверии межу группами**\n",
    "\n",
    "**Зафиксировалось около 20 % прироста относительно группы А**\n",
    "\n",
    "**Хоть и после 21 августа идет снижение конверсии В от носительно группы А , в среднем прирост не падет ниже 10%**"
   ]
  },
  {
   "cell_type": "markdown",
   "id": "3df6e2c4",
   "metadata": {},
   "source": [
    "### Графики количества заказов по пользователям "
   ]
  },
  {
   "cell_type": "markdown",
   "id": "61367978",
   "metadata": {},
   "source": [
    "- Построим точечный график количества заказов по пользователям."
   ]
  },
  {
   "cell_type": "code",
   "execution_count": 23,
   "id": "b542d2e7",
   "metadata": {},
   "outputs": [
    {
     "data": {
      "text/html": [
       "<div>\n",
       "<style scoped>\n",
       "    .dataframe tbody tr th:only-of-type {\n",
       "        vertical-align: middle;\n",
       "    }\n",
       "\n",
       "    .dataframe tbody tr th {\n",
       "        vertical-align: top;\n",
       "    }\n",
       "\n",
       "    .dataframe thead th {\n",
       "        text-align: right;\n",
       "    }\n",
       "</style>\n",
       "<table border=\"1\" class=\"dataframe\">\n",
       "  <thead>\n",
       "    <tr style=\"text-align: right;\">\n",
       "      <th></th>\n",
       "      <th>transactionId</th>\n",
       "      <th>visitorId</th>\n",
       "      <th>date</th>\n",
       "      <th>revenue</th>\n",
       "      <th>group</th>\n",
       "    </tr>\n",
       "  </thead>\n",
       "  <tbody>\n",
       "    <tr>\n",
       "      <th>0</th>\n",
       "      <td>3667963787</td>\n",
       "      <td>3312258926</td>\n",
       "      <td>2019-08-15</td>\n",
       "      <td>1650</td>\n",
       "      <td>B</td>\n",
       "    </tr>\n",
       "    <tr>\n",
       "      <th>1</th>\n",
       "      <td>2804400009</td>\n",
       "      <td>3642806036</td>\n",
       "      <td>2019-08-15</td>\n",
       "      <td>730</td>\n",
       "      <td>B</td>\n",
       "    </tr>\n",
       "    <tr>\n",
       "      <th>2</th>\n",
       "      <td>2961555356</td>\n",
       "      <td>4069496402</td>\n",
       "      <td>2019-08-15</td>\n",
       "      <td>400</td>\n",
       "      <td>A</td>\n",
       "    </tr>\n",
       "    <tr>\n",
       "      <th>3</th>\n",
       "      <td>3797467345</td>\n",
       "      <td>1196621759</td>\n",
       "      <td>2019-08-15</td>\n",
       "      <td>9759</td>\n",
       "      <td>B</td>\n",
       "    </tr>\n",
       "    <tr>\n",
       "      <th>4</th>\n",
       "      <td>2282983706</td>\n",
       "      <td>2322279887</td>\n",
       "      <td>2019-08-15</td>\n",
       "      <td>2308</td>\n",
       "      <td>B</td>\n",
       "    </tr>\n",
       "    <tr>\n",
       "      <th>...</th>\n",
       "      <td>...</td>\n",
       "      <td>...</td>\n",
       "      <td>...</td>\n",
       "      <td>...</td>\n",
       "      <td>...</td>\n",
       "    </tr>\n",
       "    <tr>\n",
       "      <th>1192</th>\n",
       "      <td>2662137336</td>\n",
       "      <td>3733762160</td>\n",
       "      <td>2019-08-14</td>\n",
       "      <td>6490</td>\n",
       "      <td>B</td>\n",
       "    </tr>\n",
       "    <tr>\n",
       "      <th>1193</th>\n",
       "      <td>2203539145</td>\n",
       "      <td>370388673</td>\n",
       "      <td>2019-08-14</td>\n",
       "      <td>3190</td>\n",
       "      <td>A</td>\n",
       "    </tr>\n",
       "    <tr>\n",
       "      <th>1194</th>\n",
       "      <td>1807773912</td>\n",
       "      <td>573423106</td>\n",
       "      <td>2019-08-14</td>\n",
       "      <td>10550</td>\n",
       "      <td>A</td>\n",
       "    </tr>\n",
       "    <tr>\n",
       "      <th>1195</th>\n",
       "      <td>1947021204</td>\n",
       "      <td>1614305549</td>\n",
       "      <td>2019-08-14</td>\n",
       "      <td>100</td>\n",
       "      <td>A</td>\n",
       "    </tr>\n",
       "    <tr>\n",
       "      <th>1196</th>\n",
       "      <td>3936777065</td>\n",
       "      <td>2108080724</td>\n",
       "      <td>2019-08-15</td>\n",
       "      <td>202740</td>\n",
       "      <td>B</td>\n",
       "    </tr>\n",
       "  </tbody>\n",
       "</table>\n",
       "<p>1197 rows × 5 columns</p>\n",
       "</div>"
      ],
      "text/plain": [
       "      transactionId   visitorId       date  revenue group\n",
       "0        3667963787  3312258926 2019-08-15     1650     B\n",
       "1        2804400009  3642806036 2019-08-15      730     B\n",
       "2        2961555356  4069496402 2019-08-15      400     A\n",
       "3        3797467345  1196621759 2019-08-15     9759     B\n",
       "4        2282983706  2322279887 2019-08-15     2308     B\n",
       "...             ...         ...        ...      ...   ...\n",
       "1192     2662137336  3733762160 2019-08-14     6490     B\n",
       "1193     2203539145   370388673 2019-08-14     3190     A\n",
       "1194     1807773912   573423106 2019-08-14    10550     A\n",
       "1195     1947021204  1614305549 2019-08-14      100     A\n",
       "1196     3936777065  2108080724 2019-08-15   202740     B\n",
       "\n",
       "[1197 rows x 5 columns]"
      ]
     },
     "execution_count": 23,
     "metadata": {},
     "output_type": "execute_result"
    }
   ],
   "source": [
    "orders"
   ]
  },
  {
   "cell_type": "code",
   "execution_count": 24,
   "id": "7d8b3e72",
   "metadata": {},
   "outputs": [
    {
     "data": {
      "text/html": [
       "<div>\n",
       "<style scoped>\n",
       "    .dataframe tbody tr th:only-of-type {\n",
       "        vertical-align: middle;\n",
       "    }\n",
       "\n",
       "    .dataframe tbody tr th {\n",
       "        vertical-align: top;\n",
       "    }\n",
       "\n",
       "    .dataframe thead th {\n",
       "        text-align: right;\n",
       "    }\n",
       "</style>\n",
       "<table border=\"1\" class=\"dataframe\">\n",
       "  <thead>\n",
       "    <tr style=\"text-align: right;\">\n",
       "      <th></th>\n",
       "      <th>userId</th>\n",
       "      <th>orders</th>\n",
       "    </tr>\n",
       "  </thead>\n",
       "  <tbody>\n",
       "    <tr>\n",
       "      <th>1023</th>\n",
       "      <td>4256040402</td>\n",
       "      <td>11</td>\n",
       "    </tr>\n",
       "    <tr>\n",
       "      <th>591</th>\n",
       "      <td>2458001652</td>\n",
       "      <td>11</td>\n",
       "    </tr>\n",
       "    <tr>\n",
       "      <th>569</th>\n",
       "      <td>2378935119</td>\n",
       "      <td>9</td>\n",
       "    </tr>\n",
       "    <tr>\n",
       "      <th>487</th>\n",
       "      <td>2038680547</td>\n",
       "      <td>8</td>\n",
       "    </tr>\n",
       "    <tr>\n",
       "      <th>44</th>\n",
       "      <td>199603092</td>\n",
       "      <td>5</td>\n",
       "    </tr>\n",
       "    <tr>\n",
       "      <th>744</th>\n",
       "      <td>3062433592</td>\n",
       "      <td>5</td>\n",
       "    </tr>\n",
       "    <tr>\n",
       "      <th>55</th>\n",
       "      <td>237748145</td>\n",
       "      <td>5</td>\n",
       "    </tr>\n",
       "    <tr>\n",
       "      <th>917</th>\n",
       "      <td>3803269165</td>\n",
       "      <td>5</td>\n",
       "    </tr>\n",
       "    <tr>\n",
       "      <th>299</th>\n",
       "      <td>1230306981</td>\n",
       "      <td>5</td>\n",
       "    </tr>\n",
       "    <tr>\n",
       "      <th>897</th>\n",
       "      <td>3717692402</td>\n",
       "      <td>5</td>\n",
       "    </tr>\n",
       "  </tbody>\n",
       "</table>\n",
       "</div>"
      ],
      "text/plain": [
       "          userId  orders\n",
       "1023  4256040402      11\n",
       "591   2458001652      11\n",
       "569   2378935119       9\n",
       "487   2038680547       8\n",
       "44     199603092       5\n",
       "744   3062433592       5\n",
       "55     237748145       5\n",
       "917   3803269165       5\n",
       "299   1230306981       5\n",
       "897   3717692402       5"
      ]
     },
     "execution_count": 24,
     "metadata": {},
     "output_type": "execute_result"
    }
   ],
   "source": [
    "ordersByUsers = (\n",
    "    orders.groupby('visitorId', as_index=False)\n",
    "    .agg({'transactionId': 'nunique'})\n",
    ")\n",
    "ordersByUsers.columns = ['userId', 'orders']\n",
    "ordersByUsers.sort_values(by='orders',ascending=False).head(10)"
   ]
  },
  {
   "cell_type": "code",
   "execution_count": 25,
   "id": "181161ba",
   "metadata": {},
   "outputs": [
    {
     "data": {
      "image/png": "[encoded data removed]",
      "text/plain": [
       "<Figure size 1200x500 with 1 Axes>"
      ]
     },
     "metadata": {
      "needs_background": "light"
     },
     "output_type": "display_data"
    }
   ],
   "source": [
    "plt.hist(ordersByUsers['orders'])\n",
    "plt.title('Распределение заказов пользователей')\n",
    "plt.xlabel('Заказы')\n",
    "plt.ylabel('Частота');"
   ]
  },
  {
   "cell_type": "markdown",
   "id": "227dbba4",
   "metadata": {},
   "source": [
    "**Большинство пользователей совершило всего 1 заказ.**\n",
    "Но неясно точно сколько пользователей совершило более двух заказов."
   ]
  },
  {
   "cell_type": "code",
   "execution_count": 26,
   "id": "cf1d6273",
   "metadata": {},
   "outputs": [
    {
     "data": {
      "image/png": "[encoded data removed]",
      "text/plain": [
       "<Figure size 1200x500 with 1 Axes>"
      ]
     },
     "metadata": {
      "needs_background": "light"
     },
     "output_type": "display_data"
    }
   ],
   "source": [
    "x_values = pd.Series(range(0, len(ordersByUsers)))\n",
    "plt.scatter(x_values, ordersByUsers['orders'])\n",
    "plt.title('Распределение заказов пользователей')\n",
    "plt.xlabel('Заказы')\n",
    "plt.ylabel('Частота');"
   ]
  },
  {
   "cell_type": "markdown",
   "id": "146f7c5d",
   "metadata": {},
   "source": [
    "**Пользователей, заказавших более двух раз совсем мало** \n",
    "\n",
    "Эти значения заказов вполне могут быть аномальными, для этого нужно просчитать выборочные перцентили "
   ]
  },
  {
   "cell_type": "markdown",
   "id": "b54990d3",
   "metadata": {},
   "source": [
    "### 95-й и 99-й перцентили количества заказов на пользователя. Точечный график стоимостей заказов"
   ]
  },
  {
   "cell_type": "markdown",
   "id": "7e39ae07",
   "metadata": {},
   "source": [
    "- Посчитаим 95-й и 99-й перцентили количества заказов на пользователя. \n",
    "Выберем границу для определения аномальных пользователей"
   ]
  },
  {
   "cell_type": "code",
   "execution_count": 27,
   "id": "e12f717d",
   "metadata": {},
   "outputs": [
    {
     "data": {
      "text/plain": [
       "array([1., 2., 4.])"
      ]
     },
     "execution_count": 27,
     "metadata": {},
     "output_type": "execute_result"
    }
   ],
   "source": [
    "np.percentile(ordersByUsers['orders'], [90, 95, 99])"
   ]
  },
  {
   "cell_type": "markdown",
   "id": "a21b692f",
   "metadata": {},
   "source": [
    "**Не более 5 % пользователей совершили более двух заказов, и не более 1 % пользователей - больше 4 заказов**"
   ]
  },
  {
   "cell_type": "markdown",
   "id": "e5915230",
   "metadata": {},
   "source": [
    "- Построим точечный график стоимостей заказов."
   ]
  },
  {
   "cell_type": "code",
   "execution_count": 28,
   "id": "64809169",
   "metadata": {},
   "outputs": [
    {
     "data": {
      "image/png": "[encoded data removed]",
      "text/plain": [
       "<Figure size 1200x500 with 1 Axes>"
      ]
     },
     "metadata": {
      "needs_background": "light"
     },
     "output_type": "display_data"
    }
   ],
   "source": [
    "x_values = pd.Series(range(0, len(orders['revenue'])))\n",
    "plt.scatter(x_values, orders['revenue'])\n",
    "plt.title('Распределение стоимостей заказов')\n",
    "plt.xlabel('Заказы')\n",
    "plt.ylabel('Стоимость');"
   ]
  },
  {
   "cell_type": "markdown",
   "id": "5e6fea10",
   "metadata": {},
   "source": [
    "**Заказ свыше 1 200 000 условных единиц выглядит весьма аномально. Так же можно наблюдать выбросы в районе 200 000 условных единиц **"
   ]
  },
  {
   "cell_type": "markdown",
   "id": "5628e9bc",
   "metadata": {},
   "source": [
    "### 95-й и 99-й перцентили стоимости заказов"
   ]
  },
  {
   "cell_type": "markdown",
   "id": "2c261ee4",
   "metadata": {},
   "source": [
    "- Посчитайте 95-й и 99-й перцентили стоимости заказов. Выберите границу для определения аномальных заказов"
   ]
  },
  {
   "cell_type": "code",
   "execution_count": 29,
   "id": "cf3d283e",
   "metadata": {},
   "outputs": [
    {
     "data": {
      "text/plain": [
       "8348.005847953216"
      ]
     },
     "execution_count": 29,
     "metadata": {},
     "output_type": "execute_result"
    }
   ],
   "source": [
    "#средняя выручка\n",
    "\n",
    "orders['revenue'].mean()"
   ]
  },
  {
   "cell_type": "markdown",
   "id": "43394b88",
   "metadata": {},
   "source": [
    "Средняя выручка равна 8348 условынх ед - явно неактуальная величина при неравномерном распределении наши данных (при наличии некольких очень дорогих заказов). Рассмотрим 95-й и 99-й перцентили "
   ]
  },
  {
   "cell_type": "code",
   "execution_count": 30,
   "id": "06744ad5",
   "metadata": {},
   "outputs": [
    {
     "data": {
      "text/plain": [
       "array([18168. , 28000. , 58233.2])"
      ]
     },
     "execution_count": 30,
     "metadata": {},
     "output_type": "execute_result"
    }
   ],
   "source": [
    "np.percentile(orders['revenue'],[90,95,99])"
   ]
  },
  {
   "cell_type": "markdown",
   "id": "c5a78daf",
   "metadata": {},
   "source": [
    "**Не более чем у 5% заказов чек дороже 28000 усл.ед. И не больше, чем у 1% заказов-дороже 58233 усл.ед**\n",
    "\n",
    "**Границу для аномальных значений стоимости заказов выбирает не более 28000 усл.ед**"
   ]
  },
  {
   "cell_type": "markdown",
   "id": "f285698b",
   "metadata": {},
   "source": [
    "### Статистическая значимость различий в конверсии между группами "
   ]
  },
  {
   "cell_type": "markdown",
   "id": "199b18f1",
   "metadata": {},
   "source": [
    "- Посчитайте статистическую значимость различий в конверсии между группами по «сырым» данным."
   ]
  },
  {
   "cell_type": "markdown",
   "id": "af6853b4",
   "metadata": {},
   "source": [
    "Посчитаем статистическую значимость различий в конверсии и среднем чеке между группами по «сырым» данным — без удаления аномальных пользователей.\n",
    "\n",
    "Сформулируем гипотезы. \n",
    "\n",
    "**Нулевая**: различий в конверсии между группами нет.\n",
    "\n",
    "**Альтернативная**: различия в конверсии между группами есть."
   ]
  },
  {
   "cell_type": "code",
   "execution_count": 31,
   "id": "1bc13966",
   "metadata": {},
   "outputs": [],
   "source": [
    "visitorsADaily = visitors[visitors['group'] == 'A'][['date', 'visitors']]\n",
    "visitorsADaily.columns = ['date', 'visitorsPerDateA']\n",
    "\n",
    "visitorsACummulative = visitorsADaily.apply(\n",
    "    lambda x: visitorsADaily[visitorsADaily['date'] <= x['date']].agg(\n",
    "        {'date': 'max', 'visitorsPerDateA': 'sum'}\n",
    "    ),\n",
    "    axis=1,\n",
    ")\n",
    "\n",
    "visitorsACummulative.columns = ['date', 'visitorsCummulativeA']\n",
    "\n",
    "visitorsBDaily = visitors[visitors['group'] == 'B'][['date', 'visitors']]\n",
    "visitorsBDaily.columns = ['date', 'visitorsPerDateB']\n",
    "\n",
    "visitorsBCummulative = visitorsBDaily.apply(\n",
    "    lambda x: visitorsBDaily[visitorsBDaily['date'] <= x['date']].agg(\n",
    "        {'date': 'max', 'visitorsPerDateB': 'sum'}\n",
    "    ),\n",
    "    axis=1,\n",
    ")\n",
    "visitorsBCummulative.columns = ['date', 'visitorsCummulativeB']\n"
   ]
  },
  {
   "cell_type": "code",
   "execution_count": 32,
   "id": "0302906a",
   "metadata": {},
   "outputs": [],
   "source": [
    "ordersADaily = (\n",
    "    orders[orders['group'] == 'A'][['date','transactionId','visitorId','revenue']]\n",
    "    .groupby('date', as_index=False)\n",
    "    .agg({'transactionId': pd.Series.nunique, 'revenue': 'sum'})\n",
    ")\n",
    "ordersADaily.columns = ['date', 'ordersPerDateA', 'revenuePerDateA']\n",
    "\n",
    "ordersACummulative = ordersADaily.apply(\n",
    "    lambda x: ordersADaily[ordersADaily['date'] <= x['date']].agg(\n",
    "        {'date': 'max', 'ordersPerDateA': 'sum', 'revenuePerDateA': 'sum'}\n",
    "    ),\n",
    "    axis=1,\n",
    ").sort_values(by=['date'])\n",
    "ordersACummulative.columns = [\n",
    "    'date',\n",
    "    'ordersCummulativeA',\n",
    "    'revenueCummulativeA',\n",
    "]\n",
    "\n",
    "ordersBDaily = (\n",
    "    orders[orders['group'] == 'B'][['date','transactionId','visitorId', 'revenue']]\n",
    "    .groupby('date', as_index=False)\n",
    "    .agg({'transactionId': pd.Series.nunique, 'revenue': 'sum'})\n",
    ")\n",
    "ordersBDaily.columns = ['date', 'ordersPerDateB', 'revenuePerDateB']\n",
    "\n",
    "ordersBCummulative = ordersBDaily.apply(\n",
    "    lambda x: ordersBDaily[ordersBDaily['date'] <= x['date']].agg(\n",
    "        {'date': 'max', 'ordersPerDateB': 'sum', 'revenuePerDateB': 'sum'}\n",
    "    ),\n",
    "    axis=1,\n",
    ").sort_values(by=['date'])\n",
    "ordersBCummulative.columns = [\n",
    "    'date',\n",
    "    'ordersCummulativeB',\n",
    "    'revenueCummulativeB',\n",
    "]\n",
    "\n",
    "data = (\n",
    "    ordersADaily.merge(\n",
    "        ordersBDaily, left_on='date', right_on='date', how='left'\n",
    "    )\n",
    "    .merge(ordersACummulative, left_on='date', right_on='date', how='left')\n",
    "    .merge(ordersBCummulative, left_on='date', right_on='date', how='left')\n",
    "    .merge(visitorsADaily, left_on='date', right_on='date', how='left')\n",
    "    .merge(visitorsBDaily, left_on='date', right_on='date', how='left')\n",
    "    .merge(visitorsACummulative, left_on='date', right_on='date', how='left')\n",
    "    .merge(visitorsBCummulative, left_on='date', right_on='date', how='left')\n",
    ")\n",
    "#"
   ]
  },
  {
   "cell_type": "code",
   "execution_count": 33,
   "id": "1ddd0e63",
   "metadata": {},
   "outputs": [
    {
     "name": "stdout",
     "output_type": "stream",
     "text": [
      "0.01679\n",
      "0.138\n"
     ]
    }
   ],
   "source": [
    "#число соверешенных заказов  для пользователей, которые заказывали хотя бы 1 раз\n",
    "ordersByUsersA = (\n",
    "    orders[orders['group'] == 'A']\n",
    "    .groupby('visitorId', as_index=False)\n",
    "    .agg({'transactionId': pd.Series.nunique})\n",
    ")\n",
    "ordersByUsersA.columns = ['userId', 'orders']\n",
    "\n",
    "ordersByUsersB = (\n",
    "    orders[orders['group'] == 'B']\n",
    "    .groupby('visitorId', as_index=False)\n",
    "    .agg({'transactionId': pd.Series.nunique})\n",
    ")\n",
    "ordersByUsersB.columns = ['userId', 'orders'] \n",
    "\n",
    "#пользователям из разных групп будет соответствовать количество заказов\n",
    "\n",
    "sampleA = pd.concat([ordersByUsersA['orders'],pd.Series(0, index=np.arange(data['visitorsPerDateA'].sum() - len(ordersByUsersA['orders'])), name='orders')],axis=0)\n",
    "\n",
    "sampleB = pd.concat([ordersByUsersB['orders'],pd.Series(0, index=np.arange(data['visitorsPerDateB'].sum() - len(ordersByUsersB['orders'])), name='orders')],axis=0)\n",
    "\n",
    "print(\"{0:.5f}\".format(stats.mannwhitneyu(sampleA, sampleB)[1]))\n",
    "\n",
    "print(\"{0:.3f}\".format(sampleB.mean() / sampleA.mean() - 1))"
   ]
  },
  {
   "cell_type": "code",
   "execution_count": 34,
   "id": "8e5f71ef",
   "metadata": {},
   "outputs": [
    {
     "name": "stdout",
     "output_type": "stream",
     "text": [
      "0.01679\n",
      "0.138\n"
     ]
    }
   ],
   "source": [
    "#число соверешенных заказов  для пользователей, которые заказывали хотя бы 1 раз\n",
    "ordersByUsersA = (\n",
    "    orders[orders['group'] == 'A']\n",
    "    .groupby('visitorId', as_index=False)\n",
    "    .agg({'transactionId': pd.Series.nunique})\n",
    ")\n",
    "ordersByUsersA.columns = ['userId', 'orders']\n",
    "\n",
    "ordersByUsersB = (\n",
    "    orders[orders['group'] == 'B']\n",
    "    .groupby('visitorId', as_index=False)\n",
    "    .agg({'transactionId': pd.Series.nunique})\n",
    ")\n",
    "ordersByUsersB.columns = ['userId', 'orders'] \n",
    "\n",
    "#пользователям из разных групп будет соответствовать количество заказов\n",
    "\n",
    "sampleA = pd.concat([ordersByUsersA['orders'],pd.Series(0, index=np.arange(data['visitorsPerDateA'].sum() - len(ordersByUsersA['orders'])), name='orders')],axis=0)\n",
    "\n",
    "sampleB = pd.concat([ordersByUsersB['orders'],pd.Series(0, index=np.arange(data['visitorsPerDateB'].sum() - len(ordersByUsersB['orders'])), name='orders')],axis=0)\n",
    "\n",
    "print(\"{0:.5f}\".format(stats.mannwhitneyu(sampleA, sampleB,alternative='two-sided')[1]))\n",
    "\n",
    "print(\"{0:.3f}\".format(sampleB.mean() / sampleA.mean() - 1))"
   ]
  },
  {
   "cell_type": "markdown",
   "id": "46286876",
   "metadata": {},
   "source": [
    "**P-value меньше 0.05 , потому нулевую гипотезу отвергаем.** \n",
    "\n",
    "**Анализ \"сырых данных\" показывает, что в конверсии между группами есть статистически значимые различия**\n",
    "\n",
    "**Относительный прирост конверсии группы B к конверсии группы А равен 13.8 %**"
   ]
  },
  {
   "cell_type": "markdown",
   "id": "020f88f6",
   "metadata": {},
   "source": [
    "### Cтатистическая значимость различий в среднем чеке заказа между группами по «сырым» данным"
   ]
  },
  {
   "cell_type": "markdown",
   "id": "ed667351",
   "metadata": {},
   "source": [
    "- Посчитайте статистическую значимость различий в среднем чеке заказа между группами по «сырым» данным. Сделайте выводы и предположения."
   ]
  },
  {
   "cell_type": "code",
   "execution_count": 35,
   "id": "2bc38d38",
   "metadata": {},
   "outputs": [
    {
     "name": "stdout",
     "output_type": "stream",
     "text": [
      "0.729\n",
      "0.259\n"
     ]
    }
   ],
   "source": [
    "print('{0:.3f}'.format(stats.mannwhitneyu(orders[orders['group']=='A']['revenue'], orders[orders['group']=='B']['revenue'])[1]))\n",
    "print('{0:.3f}'.format(orders[orders['group']=='B']['revenue'].mean()/orders[orders['group']=='A']['revenue'].mean()-1)) "
   ]
  },
  {
   "cell_type": "markdown",
   "id": "a600781f",
   "metadata": {},
   "source": [
    "**P-value больше 0.05 - не удалось отвергнуть нулевую гипотезу**\n",
    "\n",
    "**Статистически значимых отличий в среднем чеке между группами нет.**\n",
    "\n",
    "**Относительное различие среднего чека между сегментами почти 26%**\n",
    "\n",
    "Приступим к анализу аномалий"
   ]
  },
  {
   "cell_type": "markdown",
   "id": "c9af52ec",
   "metadata": {},
   "source": [
    "### Статистическая значимость различий конверсий между группами по \"очищенным\" данным"
   ]
  },
  {
   "cell_type": "markdown",
   "id": "4a56a943",
   "metadata": {},
   "source": [
    "- Посчитаем статистическую значимость различий в конверсии между группами по «очищенным» данным."
   ]
  },
  {
   "cell_type": "markdown",
   "id": "0c5f6842",
   "metadata": {},
   "source": [
    "95-й и 99-й перцентили средних чеков равны 28000 и 58233\n",
    "95-й и 99-й перцентили числа заказов на одного пользователя равны 2 и 4 заказам пользователей"
   ]
  },
  {
   "cell_type": "markdown",
   "id": "dba0d346",
   "metadata": {},
   "source": [
    "Примите за аномальных пользователей тех, кто совершил 3 заказа и более, или совершил заказ на сумму свыше 28 000 рублей. \n",
    "\n",
    "Так мы уберёте 1% пользователей с наибольшим числом заказов и от 1% до 5% заказов с наибольшей стоимостью."
   ]
  },
  {
   "cell_type": "markdown",
   "id": "7983d493",
   "metadata": {},
   "source": [
    "Удалять нужно именно пользователей — сначала определить аномальные заказы. \n",
    "Затем пользователей, совершивших их, и добавить их в список аномальных."
   ]
  },
  {
   "cell_type": "code",
   "execution_count": 36,
   "id": "0eea17ff",
   "metadata": {},
   "outputs": [
    {
     "data": {
      "text/plain": [
       "1099     148427295\n",
       "18       199603092\n",
       "928      204675465\n",
       "23       237748145\n",
       "37       249864742\n",
       "           ...    \n",
       "723     4009017467\n",
       "627     4120364173\n",
       "743     4133034833\n",
       "499     4256040402\n",
       "662     4266935830\n",
       "Length: 74, dtype: int64"
      ]
     },
     "metadata": {},
     "output_type": "display_data"
    }
   ],
   "source": [
    "#срезы пользователей с числом заказов больше 2 — usersWithManyOrders и пользователей,\n",
    "#совершивших заказы дороже 28 000 — usersWithExpensiveOrders. \n",
    "\n",
    "usersWithManyOrders = pd.concat(\n",
    "    [\n",
    "        ordersByUsersA[ordersByUsersA['orders'] > 2]['userId'],\n",
    "        ordersByUsersB[ordersByUsersB['orders'] > 2]['userId'],\n",
    "    ],\n",
    "    axis=0,\n",
    ")\n",
    "usersWithExpensiveOrders = orders[orders['revenue'] > 28000]['visitorId']\n",
    "abnormalUsers = (\n",
    "    pd.concat([usersWithManyOrders, usersWithExpensiveOrders], axis=0)\n",
    "    .drop_duplicates()\n",
    "    .sort_values()\n",
    ")\n",
    "\n",
    "display(abnormalUsers)\n"
   ]
  },
  {
   "cell_type": "markdown",
   "id": "78688f82",
   "metadata": {},
   "source": [
    "Мы получили множество аномальных пользователей. Всего их 74. \n"
   ]
  },
  {
   "cell_type": "code",
   "execution_count": 37,
   "id": "d8734fbd",
   "metadata": {},
   "outputs": [
    {
     "name": "stdout",
     "output_type": "stream",
     "text": [
      "0.01304\n",
      "0.173\n"
     ]
    }
   ],
   "source": [
    "sampleAFiltered = pd.concat(\n",
    "    [\n",
    "        ordersByUsersA[\n",
    "            np.logical_not(ordersByUsersA['userId'].isin(abnormalUsers))\n",
    "        ]['orders'],\n",
    "        pd.Series(\n",
    "            0,\n",
    "            index=np.arange(\n",
    "                data['visitorsPerDateA'].sum() - len(ordersByUsersA['orders'])\n",
    "            ),\n",
    "            name='orders',\n",
    "        ),\n",
    "    ],\n",
    "    axis=0,\n",
    ") \n",
    "\n",
    "sampleBFiltered = pd.concat(\n",
    "    [\n",
    "        ordersByUsersB[\n",
    "            np.logical_not(ordersByUsersB['userId'].isin(abnormalUsers))\n",
    "        ]['orders'],\n",
    "        pd.Series(\n",
    "            0,\n",
    "            index=np.arange(\n",
    "                data['visitorsPerDateB'].sum() - len(ordersByUsersB['orders'])\n",
    "            ),\n",
    "            name='orders',\n",
    "        ),\n",
    "    ],\n",
    "    axis=0,\n",
    ") \n",
    "\n",
    "print('{0:.5f}'.format(stats.mannwhitneyu(sampleAFiltered, sampleBFiltered)[1]))\n",
    "print('{0:.3f}'.format(sampleBFiltered.mean()/sampleAFiltered.mean()-1)) "
   ]
  },
  {
   "cell_type": "markdown",
   "id": "fd8cb9a7",
   "metadata": {},
   "source": [
    "**P-value меньше 0.05 , потому нулевую гипотезу отвергаем.** \n",
    "\n",
    "**Как и в случае с \"сырыми данными\" в конверсии между группами есть статистически значимые различия**\n",
    "\n",
    "**Сегмент B значительно лучше сегмента А**\n",
    "\n",
    "**Относительный прирост конверсии группы B к конверсии группы А равен 17.3 %**"
   ]
  },
  {
   "cell_type": "markdown",
   "id": "591aad78",
   "metadata": {},
   "source": [
    "### Cтатистическую значимость различий в среднем чеке заказа между группами по «очищенным» данным."
   ]
  },
  {
   "cell_type": "markdown",
   "id": "1891a466",
   "metadata": {},
   "source": [
    "- Посчитаим статистическую значимость различий в среднем чеке заказа между группами по «очищенным» данным."
   ]
  },
  {
   "cell_type": "code",
   "execution_count": 38,
   "id": "96c6a59e",
   "metadata": {},
   "outputs": [
    {
     "name": "stdout",
     "output_type": "stream",
     "text": [
      "0.729\n",
      "0.259\n"
     ]
    }
   ],
   "source": [
    "print(\n",
    "    '{0:.3f}'.format(\n",
    "        stats.mannwhitneyu(\n",
    "            orders[\n",
    "                np.logical_and(\n",
    "                    orders['group'] == 'A',\n",
    "                    np.logical_not(orders['transactionId'].isin(abnormalUsers)),\n",
    "                )\n",
    "            ]['revenue'],\n",
    "            orders[\n",
    "                np.logical_and(\n",
    "                    orders['group'] == 'B',\n",
    "                    np.logical_not(orders['transactionId'].isin(abnormalUsers)),\n",
    "                )\n",
    "            ]['revenue'],\n",
    "        )[1]\n",
    "    )\n",
    ")\n",
    "\n",
    "\n",
    "print(\n",
    "    \"{0:.3f}\".format(\n",
    "        orders[\n",
    "            np.logical_and(\n",
    "                orders['group'] == 'B',\n",
    "                np.logical_not(orders['transactionId'].isin(abnormalUsers)),\n",
    "            )\n",
    "        ]['revenue'].mean()\n",
    "        / orders[\n",
    "            np.logical_and(\n",
    "                orders['group'] == 'A',\n",
    "                np.logical_not(orders['transactionId'].isin(abnormalUsers)),\n",
    "            )\n",
    "        ]['revenue'].mean()\n",
    "        - 1\n",
    "    )\n",
    ") "
   ]
  },
  {
   "cell_type": "markdown",
   "id": "6651dd93",
   "metadata": {},
   "source": [
    "Получая значение p value намного больше уровня статистической значимости , мы не опровергаем нулевую гипотезу,  т.е \n",
    "нет статистической значимости различий в среднем чеке заказа между группами по «очищенным» данным,\n",
    "они предположительно равны\n",
    "\n",
    "**После удаления выбросов в данных меньше шума, дисперсия снизилась, различие почти в 26 процентов статистически значимо!**\n"
   ]
  },
  {
   "cell_type": "markdown",
   "id": "eba0d8f3",
   "metadata": {},
   "source": [
    "## Анализ по результатам А/B тестирования"
   ]
  },
  {
   "cell_type": "markdown",
   "id": "f9dc9128",
   "metadata": {},
   "source": [
    "- Есть статистически значимое различие по конверсии между группами как по сырым данным, так и после фильтрации аномалий.\n",
    "\n",
    "Относительный прирост конверсии группы B к конверсии группы А не менее 10 %\n",
    "\n",
    "- По сырым данным нет статистически значимого различия по среднему чеку между группами. Однако после удаления аномалий статистически значимое различие есть.\n",
    "\n",
    "- График различия конверсии между группами сообщает, что результаты группы B лучше группы A: имеют тенденцию к росту, либо зафиксировались около среднего значения.\n",
    "  В начале теста группа А и В имели примерно одинаковую конверсию Постепенно сегмент В зафиксировался примерно в диапазоне 0,034-0,031\n",
    "  \n",
    "- График различия среднего чека колеблется: он-то и позволил вам найти аномалии. Сделать из этого графика определённые выводы нельзя.\n",
    "\n",
    " Можем остановить тест, признать его успешным\n",
    " "
   ]
  }
 ],
 "metadata": {
  "ExecuteTimeLog": [
   {
    "duration": 1041,
    "start_time": "2022-04-01T18:15:38.915Z"
   },
   {
    "duration": 546,
    "start_time": "2022-04-01T18:15:39.958Z"
   },
   {
    "duration": 4,
    "start_time": "2022-04-01T18:15:40.505Z"
   },
   {
    "duration": 28,
    "start_time": "2022-04-01T18:15:40.510Z"
   },
   {
    "duration": 5,
    "start_time": "2022-04-01T18:15:40.540Z"
   },
   {
    "duration": 24,
    "start_time": "2022-04-01T18:15:40.546Z"
   },
   {
    "duration": 45,
    "start_time": "2022-04-01T18:15:40.571Z"
   },
   {
    "duration": 21,
    "start_time": "2022-04-01T18:15:40.618Z"
   },
   {
    "duration": 3,
    "start_time": "2022-04-01T18:15:40.641Z"
   },
   {
    "duration": 11,
    "start_time": "2022-04-01T18:15:40.646Z"
   },
   {
    "duration": 11,
    "start_time": "2022-04-01T18:15:40.659Z"
   },
   {
    "duration": 49,
    "start_time": "2022-04-01T18:15:40.672Z"
   },
   {
    "duration": 286,
    "start_time": "2022-04-01T18:15:40.723Z"
   },
   {
    "duration": 315,
    "start_time": "2022-04-01T18:15:41.012Z"
   },
   {
    "duration": 244,
    "start_time": "2022-04-01T18:15:41.329Z"
   },
   {
    "duration": 365,
    "start_time": "2022-04-01T18:15:41.575Z"
   },
   {
    "duration": 250,
    "start_time": "2022-04-01T18:15:41.942Z"
   },
   {
    "duration": 345,
    "start_time": "2022-04-01T18:15:42.194Z"
   },
   {
    "duration": 12,
    "start_time": "2022-04-01T18:15:42.541Z"
   },
   {
    "duration": 13,
    "start_time": "2022-04-01T18:15:42.554Z"
   },
   {
    "duration": 176,
    "start_time": "2022-04-01T18:15:42.568Z"
   },
   {
    "duration": 156,
    "start_time": "2022-04-01T18:15:42.745Z"
   },
   {
    "duration": 9,
    "start_time": "2022-04-01T18:15:42.902Z"
   },
   {
    "duration": 184,
    "start_time": "2022-04-01T18:15:42.913Z"
   },
   {
    "duration": 12,
    "start_time": "2022-04-01T18:15:43.098Z"
   },
   {
    "duration": 10,
    "start_time": "2022-04-01T18:15:43.112Z"
   },
   {
    "duration": 101,
    "start_time": "2022-04-01T18:15:43.123Z"
   },
   {
    "duration": 125,
    "start_time": "2022-04-01T18:15:43.226Z"
   },
   {
    "duration": 169,
    "start_time": "2022-04-01T18:15:43.353Z"
   },
   {
    "duration": 10,
    "start_time": "2022-04-01T18:15:43.523Z"
   },
   {
    "duration": 9,
    "start_time": "2022-04-01T18:15:43.534Z"
   },
   {
    "duration": 40,
    "start_time": "2022-04-01T18:15:43.545Z"
   },
   {
    "duration": 26,
    "start_time": "2022-04-01T18:15:43.587Z"
   },
   {
    "duration": 66,
    "start_time": "2022-04-02T12:59:39.926Z"
   },
   {
    "duration": 1466,
    "start_time": "2022-04-02T12:59:51.524Z"
   },
   {
    "duration": 404,
    "start_time": "2022-04-02T12:59:52.993Z"
   },
   {
    "duration": 4,
    "start_time": "2022-04-02T12:59:53.399Z"
   },
   {
    "duration": 40,
    "start_time": "2022-04-02T12:59:53.406Z"
   },
   {
    "duration": 5,
    "start_time": "2022-04-02T12:59:53.448Z"
   },
   {
    "duration": 53,
    "start_time": "2022-04-02T12:59:53.455Z"
   },
   {
    "duration": 18,
    "start_time": "2022-04-02T12:59:53.510Z"
   },
   {
    "duration": 63,
    "start_time": "2022-04-02T12:59:53.530Z"
   },
   {
    "duration": 6,
    "start_time": "2022-04-02T12:59:53.595Z"
   },
   {
    "duration": 25,
    "start_time": "2022-04-02T12:59:53.605Z"
   },
   {
    "duration": 16,
    "start_time": "2022-04-02T12:59:53.632Z"
   },
   {
    "duration": 43,
    "start_time": "2022-04-02T12:59:53.651Z"
   },
   {
    "duration": 441,
    "start_time": "2022-04-02T12:59:53.696Z"
   },
   {
    "duration": 490,
    "start_time": "2022-04-02T12:59:54.139Z"
   },
   {
    "duration": 374,
    "start_time": "2022-04-02T12:59:54.631Z"
   },
   {
    "duration": 488,
    "start_time": "2022-04-02T12:59:55.007Z"
   },
   {
    "duration": 421,
    "start_time": "2022-04-02T12:59:55.498Z"
   },
   {
    "duration": 442,
    "start_time": "2022-04-02T12:59:55.922Z"
   },
   {
    "duration": 29,
    "start_time": "2022-04-02T12:59:56.367Z"
   },
   {
    "duration": 17,
    "start_time": "2022-04-02T12:59:56.399Z"
   },
   {
    "duration": 287,
    "start_time": "2022-04-02T12:59:56.418Z"
   },
   {
    "duration": 278,
    "start_time": "2022-04-02T12:59:56.708Z"
   },
   {
    "duration": 7,
    "start_time": "2022-04-02T12:59:56.988Z"
   },
   {
    "duration": 302,
    "start_time": "2022-04-02T12:59:56.997Z"
   },
   {
    "duration": 5,
    "start_time": "2022-04-02T12:59:57.302Z"
   },
   {
    "duration": 9,
    "start_time": "2022-04-02T12:59:57.309Z"
   },
   {
    "duration": 175,
    "start_time": "2022-04-02T12:59:57.320Z"
   },
   {
    "duration": 223,
    "start_time": "2022-04-02T12:59:57.500Z"
   },
   {
    "duration": 269,
    "start_time": "2022-04-02T12:59:57.725Z"
   },
   {
    "duration": 13,
    "start_time": "2022-04-02T12:59:57.997Z"
   },
   {
    "duration": 14,
    "start_time": "2022-04-02T12:59:58.012Z"
   },
   {
    "duration": 69,
    "start_time": "2022-04-02T12:59:58.028Z"
   },
   {
    "duration": 20,
    "start_time": "2022-04-02T12:59:58.099Z"
   },
   {
    "duration": 489,
    "start_time": "2022-04-02T13:09:01.269Z"
   },
   {
    "duration": 1619,
    "start_time": "2022-04-04T07:32:09.134Z"
   },
   {
    "duration": 680,
    "start_time": "2022-04-04T07:32:10.756Z"
   },
   {
    "duration": 6,
    "start_time": "2022-04-04T07:32:11.438Z"
   },
   {
    "duration": 43,
    "start_time": "2022-04-04T07:32:11.448Z"
   },
   {
    "duration": 7,
    "start_time": "2022-04-04T07:32:11.494Z"
   },
   {
    "duration": 72,
    "start_time": "2022-04-04T07:32:11.504Z"
   },
   {
    "duration": 19,
    "start_time": "2022-04-04T07:32:11.578Z"
   },
   {
    "duration": 34,
    "start_time": "2022-04-04T07:32:11.599Z"
   },
   {
    "duration": 5,
    "start_time": "2022-04-04T07:32:11.635Z"
   },
   {
    "duration": 17,
    "start_time": "2022-04-04T07:32:11.675Z"
   },
   {
    "duration": 15,
    "start_time": "2022-04-04T07:32:11.694Z"
   },
   {
    "duration": 17,
    "start_time": "2022-04-04T07:32:11.712Z"
   },
   {
    "duration": 468,
    "start_time": "2022-04-04T07:32:11.731Z"
   },
   {
    "duration": 527,
    "start_time": "2022-04-04T07:32:12.202Z"
   },
   {
    "duration": 409,
    "start_time": "2022-04-04T07:32:12.731Z"
   },
   {
    "duration": 593,
    "start_time": "2022-04-04T07:32:13.142Z"
   },
   {
    "duration": 453,
    "start_time": "2022-04-04T07:32:13.737Z"
   },
   {
    "duration": 484,
    "start_time": "2022-04-04T07:32:14.193Z"
   },
   {
    "duration": 18,
    "start_time": "2022-04-04T07:32:14.680Z"
   },
   {
    "duration": 17,
    "start_time": "2022-04-04T07:32:14.701Z"
   },
   {
    "duration": 409,
    "start_time": "2022-04-04T07:32:14.721Z"
   },
   {
    "duration": 288,
    "start_time": "2022-04-04T07:32:15.133Z"
   },
   {
    "duration": 7,
    "start_time": "2022-04-04T07:32:15.424Z"
   },
   {
    "duration": 322,
    "start_time": "2022-04-04T07:32:15.434Z"
   },
   {
    "duration": 17,
    "start_time": "2022-04-04T07:32:15.758Z"
   },
   {
    "duration": 8,
    "start_time": "2022-04-04T07:32:15.778Z"
   },
   {
    "duration": 171,
    "start_time": "2022-04-04T07:32:15.789Z"
   },
   {
    "duration": 224,
    "start_time": "2022-04-04T07:32:15.975Z"
   },
   {
    "duration": 305,
    "start_time": "2022-04-04T07:32:16.201Z"
   },
   {
    "duration": 13,
    "start_time": "2022-04-04T07:32:16.508Z"
   },
   {
    "duration": 14,
    "start_time": "2022-04-04T07:32:16.523Z"
   },
   {
    "duration": 65,
    "start_time": "2022-04-04T07:32:16.540Z"
   },
   {
    "duration": 19,
    "start_time": "2022-04-04T07:32:16.607Z"
   },
   {
    "duration": 247,
    "start_time": "2022-04-04T08:21:06.242Z"
   },
   {
    "duration": 147,
    "start_time": "2022-04-04T08:21:12.971Z"
   },
   {
    "duration": 17,
    "start_time": "2022-04-04T08:21:22.058Z"
   },
   {
    "duration": 7,
    "start_time": "2022-04-04T08:21:35.067Z"
   },
   {
    "duration": 7,
    "start_time": "2022-04-04T08:22:18.907Z"
   },
   {
    "duration": 7,
    "start_time": "2022-04-04T08:22:32.091Z"
   },
   {
    "duration": 7,
    "start_time": "2022-04-04T08:22:41.993Z"
   },
   {
    "duration": 6,
    "start_time": "2022-04-04T08:22:45.736Z"
   },
   {
    "duration": 18,
    "start_time": "2022-04-04T08:27:29.477Z"
   },
   {
    "duration": 7,
    "start_time": "2022-04-04T08:28:09.964Z"
   },
   {
    "duration": 21,
    "start_time": "2022-04-04T08:28:18.380Z"
   },
   {
    "duration": 19,
    "start_time": "2022-04-04T08:28:28.468Z"
   },
   {
    "duration": 7,
    "start_time": "2022-04-04T08:28:34.971Z"
   },
   {
    "duration": 20,
    "start_time": "2022-04-04T08:28:59.235Z"
   },
   {
    "duration": 6,
    "start_time": "2022-04-04T08:29:24.299Z"
   },
   {
    "duration": 14,
    "start_time": "2022-04-04T08:31:37.898Z"
   },
   {
    "duration": 6,
    "start_time": "2022-04-04T08:32:00.514Z"
   },
   {
    "duration": 127,
    "start_time": "2022-04-04T08:32:53.745Z"
   },
   {
    "duration": 13,
    "start_time": "2022-04-04T08:34:26.352Z"
   },
   {
    "duration": 8,
    "start_time": "2022-04-04T08:34:41.631Z"
   },
   {
    "duration": 2458,
    "start_time": "2022-04-04T08:57:40.057Z"
   },
   {
    "duration": 463,
    "start_time": "2022-04-04T08:57:58.240Z"
   },
   {
    "duration": 40,
    "start_time": "2022-04-04T09:47:38.721Z"
   },
   {
    "duration": 310,
    "start_time": "2022-04-04T09:49:39.750Z"
   }
  ],
  "kernelspec": {
   "display_name": "Python 3 (ipykernel)",
   "language": "python",
   "name": "python3"
  },
  "language_info": {
   "codemirror_mode": {
    "name": "ipython",
    "version": 3
   },
   "file_extension": ".py",
   "mimetype": "text/x-python",
   "name": "python",
   "nbconvert_exporter": "python",
   "pygments_lexer": "ipython3",
   "version": "3.9.7"
  },
  "toc": {
   "base_numbering": 1,
   "nav_menu": {},
   "number_sections": true,
   "sideBar": true,
   "skip_h1_title": true,
   "title_cell": "Содержание",
   "title_sidebar": "Contents",
   "toc_cell": true,
   "toc_position": {
    "height": "calc(100% - 180px)",
    "left": "10px",
    "top": "150px",
    "width": "366.391px"
   },
   "toc_section_display": true,
   "toc_window_display": true
  }
 },
 "nbformat": 4,
 "nbformat_minor": 5
}
